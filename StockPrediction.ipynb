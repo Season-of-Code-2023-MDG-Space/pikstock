{
 "cells": [
  {
   "cell_type": "code",
   "execution_count": 1,
   "metadata": {},
   "outputs": [],
   "source": [
    "import numpy as np\n",
    "import pandas as pd\n",
    "import matplotlib.pyplot as plt\n",
    "import pandas_datareader as pdr\n",
    "import yfinance as yf\n",
    "import tensorflow as tf"
   ]
  },
  {
   "cell_type": "code",
   "execution_count": 2,
   "metadata": {},
   "outputs": [
    {
     "name": "stdout",
     "output_type": "stream",
     "text": [
      "GOOG\n"
     ]
    },
    {
     "data": {
      "text/html": [
       "<div>\n",
       "<style scoped>\n",
       "    .dataframe tbody tr th:only-of-type {\n",
       "        vertical-align: middle;\n",
       "    }\n",
       "\n",
       "    .dataframe tbody tr th {\n",
       "        vertical-align: top;\n",
       "    }\n",
       "\n",
       "    .dataframe thead th {\n",
       "        text-align: right;\n",
       "    }\n",
       "</style>\n",
       "<table border=\"1\" class=\"dataframe\">\n",
       "  <thead>\n",
       "    <tr style=\"text-align: right;\">\n",
       "      <th></th>\n",
       "      <th>Open</th>\n",
       "      <th>High</th>\n",
       "      <th>Low</th>\n",
       "      <th>Close</th>\n",
       "      <th>Volume</th>\n",
       "      <th>Dividends</th>\n",
       "      <th>Stock Splits</th>\n",
       "    </tr>\n",
       "    <tr>\n",
       "      <th>Date</th>\n",
       "      <th></th>\n",
       "      <th></th>\n",
       "      <th></th>\n",
       "      <th></th>\n",
       "      <th></th>\n",
       "      <th></th>\n",
       "      <th></th>\n",
       "    </tr>\n",
       "  </thead>\n",
       "  <tbody>\n",
       "    <tr>\n",
       "      <th>2010-01-04 00:00:00-05:00</th>\n",
       "      <td>15.615220</td>\n",
       "      <td>15.678981</td>\n",
       "      <td>15.547723</td>\n",
       "      <td>15.610239</td>\n",
       "      <td>78541293</td>\n",
       "      <td>0.0</td>\n",
       "      <td>0.0</td>\n",
       "    </tr>\n",
       "    <tr>\n",
       "      <th>2010-01-05 00:00:00-05:00</th>\n",
       "      <td>15.620949</td>\n",
       "      <td>15.637387</td>\n",
       "      <td>15.480475</td>\n",
       "      <td>15.541497</td>\n",
       "      <td>120638494</td>\n",
       "      <td>0.0</td>\n",
       "      <td>0.0</td>\n",
       "    </tr>\n",
       "    <tr>\n",
       "      <th>2010-01-06 00:00:00-05:00</th>\n",
       "      <td>15.588072</td>\n",
       "      <td>15.588072</td>\n",
       "      <td>15.102393</td>\n",
       "      <td>15.149715</td>\n",
       "      <td>159744526</td>\n",
       "      <td>0.0</td>\n",
       "      <td>0.0</td>\n",
       "    </tr>\n",
       "    <tr>\n",
       "      <th>2010-01-07 00:00:00-05:00</th>\n",
       "      <td>15.178109</td>\n",
       "      <td>15.193053</td>\n",
       "      <td>14.760922</td>\n",
       "      <td>14.797037</td>\n",
       "      <td>257533695</td>\n",
       "      <td>0.0</td>\n",
       "      <td>0.0</td>\n",
       "    </tr>\n",
       "    <tr>\n",
       "      <th>2010-01-08 00:00:00-05:00</th>\n",
       "      <td>14.744733</td>\n",
       "      <td>15.024933</td>\n",
       "      <td>14.672753</td>\n",
       "      <td>14.994298</td>\n",
       "      <td>189680313</td>\n",
       "      <td>0.0</td>\n",
       "      <td>0.0</td>\n",
       "    </tr>\n",
       "    <tr>\n",
       "      <th>...</th>\n",
       "      <td>...</td>\n",
       "      <td>...</td>\n",
       "      <td>...</td>\n",
       "      <td>...</td>\n",
       "      <td>...</td>\n",
       "      <td>...</td>\n",
       "      <td>...</td>\n",
       "    </tr>\n",
       "    <tr>\n",
       "      <th>2023-06-12 00:00:00-04:00</th>\n",
       "      <td>123.394997</td>\n",
       "      <td>124.750000</td>\n",
       "      <td>122.349998</td>\n",
       "      <td>124.349998</td>\n",
       "      <td>22255700</td>\n",
       "      <td>0.0</td>\n",
       "      <td>0.0</td>\n",
       "    </tr>\n",
       "    <tr>\n",
       "      <th>2023-06-13 00:00:00-04:00</th>\n",
       "      <td>125.650002</td>\n",
       "      <td>125.860001</td>\n",
       "      <td>123.845001</td>\n",
       "      <td>124.430000</td>\n",
       "      <td>19287700</td>\n",
       "      <td>0.0</td>\n",
       "      <td>0.0</td>\n",
       "    </tr>\n",
       "    <tr>\n",
       "      <th>2023-06-14 00:00:00-04:00</th>\n",
       "      <td>123.800003</td>\n",
       "      <td>124.790001</td>\n",
       "      <td>122.160004</td>\n",
       "      <td>124.379997</td>\n",
       "      <td>24659600</td>\n",
       "      <td>0.0</td>\n",
       "      <td>0.0</td>\n",
       "    </tr>\n",
       "    <tr>\n",
       "      <th>2023-06-15 00:00:00-04:00</th>\n",
       "      <td>123.879997</td>\n",
       "      <td>126.160004</td>\n",
       "      <td>123.139999</td>\n",
       "      <td>125.790001</td>\n",
       "      <td>24517100</td>\n",
       "      <td>0.0</td>\n",
       "      <td>0.0</td>\n",
       "    </tr>\n",
       "    <tr>\n",
       "      <th>2023-06-16 00:00:00-04:00</th>\n",
       "      <td>126.699997</td>\n",
       "      <td>126.699997</td>\n",
       "      <td>123.790001</td>\n",
       "      <td>124.059998</td>\n",
       "      <td>56686800</td>\n",
       "      <td>0.0</td>\n",
       "      <td>0.0</td>\n",
       "    </tr>\n",
       "  </tbody>\n",
       "</table>\n",
       "<p>3387 rows × 7 columns</p>\n",
       "</div>"
      ],
      "text/plain": [
       "                                 Open        High         Low       Close  \\\n",
       "Date                                                                        \n",
       "2010-01-04 00:00:00-05:00   15.615220   15.678981   15.547723   15.610239   \n",
       "2010-01-05 00:00:00-05:00   15.620949   15.637387   15.480475   15.541497   \n",
       "2010-01-06 00:00:00-05:00   15.588072   15.588072   15.102393   15.149715   \n",
       "2010-01-07 00:00:00-05:00   15.178109   15.193053   14.760922   14.797037   \n",
       "2010-01-08 00:00:00-05:00   14.744733   15.024933   14.672753   14.994298   \n",
       "...                               ...         ...         ...         ...   \n",
       "2023-06-12 00:00:00-04:00  123.394997  124.750000  122.349998  124.349998   \n",
       "2023-06-13 00:00:00-04:00  125.650002  125.860001  123.845001  124.430000   \n",
       "2023-06-14 00:00:00-04:00  123.800003  124.790001  122.160004  124.379997   \n",
       "2023-06-15 00:00:00-04:00  123.879997  126.160004  123.139999  125.790001   \n",
       "2023-06-16 00:00:00-04:00  126.699997  126.699997  123.790001  124.059998   \n",
       "\n",
       "                              Volume  Dividends  Stock Splits  \n",
       "Date                                                           \n",
       "2010-01-04 00:00:00-05:00   78541293        0.0           0.0  \n",
       "2010-01-05 00:00:00-05:00  120638494        0.0           0.0  \n",
       "2010-01-06 00:00:00-05:00  159744526        0.0           0.0  \n",
       "2010-01-07 00:00:00-05:00  257533695        0.0           0.0  \n",
       "2010-01-08 00:00:00-05:00  189680313        0.0           0.0  \n",
       "...                              ...        ...           ...  \n",
       "2023-06-12 00:00:00-04:00   22255700        0.0           0.0  \n",
       "2023-06-13 00:00:00-04:00   19287700        0.0           0.0  \n",
       "2023-06-14 00:00:00-04:00   24659600        0.0           0.0  \n",
       "2023-06-15 00:00:00-04:00   24517100        0.0           0.0  \n",
       "2023-06-16 00:00:00-04:00   56686800        0.0           0.0  \n",
       "\n",
       "[3387 rows x 7 columns]"
      ]
     },
     "execution_count": 2,
     "metadata": {},
     "output_type": "execute_result"
    }
   ],
   "source": [
    "stock = input(\"Enter the stock: \")\n",
    "print(stock)\n",
    "\n",
    "ticker = yf.Ticker(stock)\n",
    "start_date = '2010-01-01'\n",
    "df = ticker.history(start = start_date)\n",
    "df"
   ]
  },
  {
   "cell_type": "code",
   "execution_count": 3,
   "metadata": {},
   "outputs": [
    {
     "data": {
      "text/html": [
       "<div>\n",
       "<style scoped>\n",
       "    .dataframe tbody tr th:only-of-type {\n",
       "        vertical-align: middle;\n",
       "    }\n",
       "\n",
       "    .dataframe tbody tr th {\n",
       "        vertical-align: top;\n",
       "    }\n",
       "\n",
       "    .dataframe thead th {\n",
       "        text-align: right;\n",
       "    }\n",
       "</style>\n",
       "<table border=\"1\" class=\"dataframe\">\n",
       "  <thead>\n",
       "    <tr style=\"text-align: right;\">\n",
       "      <th></th>\n",
       "      <th>Date</th>\n",
       "      <th>Open</th>\n",
       "      <th>High</th>\n",
       "      <th>Low</th>\n",
       "      <th>Close</th>\n",
       "      <th>Volume</th>\n",
       "      <th>Dividends</th>\n",
       "      <th>Stock Splits</th>\n",
       "    </tr>\n",
       "  </thead>\n",
       "  <tbody>\n",
       "    <tr>\n",
       "      <th>0</th>\n",
       "      <td>2010-01-04 00:00:00-05:00</td>\n",
       "      <td>15.615220</td>\n",
       "      <td>15.678981</td>\n",
       "      <td>15.547723</td>\n",
       "      <td>15.610239</td>\n",
       "      <td>78541293</td>\n",
       "      <td>0.0</td>\n",
       "      <td>0.0</td>\n",
       "    </tr>\n",
       "    <tr>\n",
       "      <th>1</th>\n",
       "      <td>2010-01-05 00:00:00-05:00</td>\n",
       "      <td>15.620949</td>\n",
       "      <td>15.637387</td>\n",
       "      <td>15.480475</td>\n",
       "      <td>15.541497</td>\n",
       "      <td>120638494</td>\n",
       "      <td>0.0</td>\n",
       "      <td>0.0</td>\n",
       "    </tr>\n",
       "    <tr>\n",
       "      <th>2</th>\n",
       "      <td>2010-01-06 00:00:00-05:00</td>\n",
       "      <td>15.588072</td>\n",
       "      <td>15.588072</td>\n",
       "      <td>15.102393</td>\n",
       "      <td>15.149715</td>\n",
       "      <td>159744526</td>\n",
       "      <td>0.0</td>\n",
       "      <td>0.0</td>\n",
       "    </tr>\n",
       "    <tr>\n",
       "      <th>3</th>\n",
       "      <td>2010-01-07 00:00:00-05:00</td>\n",
       "      <td>15.178109</td>\n",
       "      <td>15.193053</td>\n",
       "      <td>14.760922</td>\n",
       "      <td>14.797037</td>\n",
       "      <td>257533695</td>\n",
       "      <td>0.0</td>\n",
       "      <td>0.0</td>\n",
       "    </tr>\n",
       "    <tr>\n",
       "      <th>4</th>\n",
       "      <td>2010-01-08 00:00:00-05:00</td>\n",
       "      <td>14.744733</td>\n",
       "      <td>15.024933</td>\n",
       "      <td>14.672753</td>\n",
       "      <td>14.994298</td>\n",
       "      <td>189680313</td>\n",
       "      <td>0.0</td>\n",
       "      <td>0.0</td>\n",
       "    </tr>\n",
       "    <tr>\n",
       "      <th>...</th>\n",
       "      <td>...</td>\n",
       "      <td>...</td>\n",
       "      <td>...</td>\n",
       "      <td>...</td>\n",
       "      <td>...</td>\n",
       "      <td>...</td>\n",
       "      <td>...</td>\n",
       "      <td>...</td>\n",
       "    </tr>\n",
       "    <tr>\n",
       "      <th>3382</th>\n",
       "      <td>2023-06-12 00:00:00-04:00</td>\n",
       "      <td>123.394997</td>\n",
       "      <td>124.750000</td>\n",
       "      <td>122.349998</td>\n",
       "      <td>124.349998</td>\n",
       "      <td>22255700</td>\n",
       "      <td>0.0</td>\n",
       "      <td>0.0</td>\n",
       "    </tr>\n",
       "    <tr>\n",
       "      <th>3383</th>\n",
       "      <td>2023-06-13 00:00:00-04:00</td>\n",
       "      <td>125.650002</td>\n",
       "      <td>125.860001</td>\n",
       "      <td>123.845001</td>\n",
       "      <td>124.430000</td>\n",
       "      <td>19287700</td>\n",
       "      <td>0.0</td>\n",
       "      <td>0.0</td>\n",
       "    </tr>\n",
       "    <tr>\n",
       "      <th>3384</th>\n",
       "      <td>2023-06-14 00:00:00-04:00</td>\n",
       "      <td>123.800003</td>\n",
       "      <td>124.790001</td>\n",
       "      <td>122.160004</td>\n",
       "      <td>124.379997</td>\n",
       "      <td>24659600</td>\n",
       "      <td>0.0</td>\n",
       "      <td>0.0</td>\n",
       "    </tr>\n",
       "    <tr>\n",
       "      <th>3385</th>\n",
       "      <td>2023-06-15 00:00:00-04:00</td>\n",
       "      <td>123.879997</td>\n",
       "      <td>126.160004</td>\n",
       "      <td>123.139999</td>\n",
       "      <td>125.790001</td>\n",
       "      <td>24517100</td>\n",
       "      <td>0.0</td>\n",
       "      <td>0.0</td>\n",
       "    </tr>\n",
       "    <tr>\n",
       "      <th>3386</th>\n",
       "      <td>2023-06-16 00:00:00-04:00</td>\n",
       "      <td>126.699997</td>\n",
       "      <td>126.699997</td>\n",
       "      <td>123.790001</td>\n",
       "      <td>124.059998</td>\n",
       "      <td>56686800</td>\n",
       "      <td>0.0</td>\n",
       "      <td>0.0</td>\n",
       "    </tr>\n",
       "  </tbody>\n",
       "</table>\n",
       "<p>3387 rows × 8 columns</p>\n",
       "</div>"
      ],
      "text/plain": [
       "                          Date        Open        High         Low  \\\n",
       "0    2010-01-04 00:00:00-05:00   15.615220   15.678981   15.547723   \n",
       "1    2010-01-05 00:00:00-05:00   15.620949   15.637387   15.480475   \n",
       "2    2010-01-06 00:00:00-05:00   15.588072   15.588072   15.102393   \n",
       "3    2010-01-07 00:00:00-05:00   15.178109   15.193053   14.760922   \n",
       "4    2010-01-08 00:00:00-05:00   14.744733   15.024933   14.672753   \n",
       "...                        ...         ...         ...         ...   \n",
       "3382 2023-06-12 00:00:00-04:00  123.394997  124.750000  122.349998   \n",
       "3383 2023-06-13 00:00:00-04:00  125.650002  125.860001  123.845001   \n",
       "3384 2023-06-14 00:00:00-04:00  123.800003  124.790001  122.160004   \n",
       "3385 2023-06-15 00:00:00-04:00  123.879997  126.160004  123.139999   \n",
       "3386 2023-06-16 00:00:00-04:00  126.699997  126.699997  123.790001   \n",
       "\n",
       "           Close     Volume  Dividends  Stock Splits  \n",
       "0      15.610239   78541293        0.0           0.0  \n",
       "1      15.541497  120638494        0.0           0.0  \n",
       "2      15.149715  159744526        0.0           0.0  \n",
       "3      14.797037  257533695        0.0           0.0  \n",
       "4      14.994298  189680313        0.0           0.0  \n",
       "...          ...        ...        ...           ...  \n",
       "3382  124.349998   22255700        0.0           0.0  \n",
       "3383  124.430000   19287700        0.0           0.0  \n",
       "3384  124.379997   24659600        0.0           0.0  \n",
       "3385  125.790001   24517100        0.0           0.0  \n",
       "3386  124.059998   56686800        0.0           0.0  \n",
       "\n",
       "[3387 rows x 8 columns]"
      ]
     },
     "execution_count": 3,
     "metadata": {},
     "output_type": "execute_result"
    }
   ],
   "source": [
    "df = df.reset_index()\n",
    "df"
   ]
  },
  {
   "cell_type": "code",
   "execution_count": 4,
   "metadata": {},
   "outputs": [
    {
     "data": {
      "text/html": [
       "<div>\n",
       "<style scoped>\n",
       "    .dataframe tbody tr th:only-of-type {\n",
       "        vertical-align: middle;\n",
       "    }\n",
       "\n",
       "    .dataframe tbody tr th {\n",
       "        vertical-align: top;\n",
       "    }\n",
       "\n",
       "    .dataframe thead th {\n",
       "        text-align: right;\n",
       "    }\n",
       "</style>\n",
       "<table border=\"1\" class=\"dataframe\">\n",
       "  <thead>\n",
       "    <tr style=\"text-align: right;\">\n",
       "      <th></th>\n",
       "      <th>Date</th>\n",
       "      <th>Open</th>\n",
       "      <th>High</th>\n",
       "      <th>Low</th>\n",
       "      <th>Close</th>\n",
       "      <th>Volume</th>\n",
       "    </tr>\n",
       "  </thead>\n",
       "  <tbody>\n",
       "    <tr>\n",
       "      <th>0</th>\n",
       "      <td>2010-01-04 00:00:00-05:00</td>\n",
       "      <td>15.615220</td>\n",
       "      <td>15.678981</td>\n",
       "      <td>15.547723</td>\n",
       "      <td>15.610239</td>\n",
       "      <td>78541293</td>\n",
       "    </tr>\n",
       "    <tr>\n",
       "      <th>1</th>\n",
       "      <td>2010-01-05 00:00:00-05:00</td>\n",
       "      <td>15.620949</td>\n",
       "      <td>15.637387</td>\n",
       "      <td>15.480475</td>\n",
       "      <td>15.541497</td>\n",
       "      <td>120638494</td>\n",
       "    </tr>\n",
       "    <tr>\n",
       "      <th>2</th>\n",
       "      <td>2010-01-06 00:00:00-05:00</td>\n",
       "      <td>15.588072</td>\n",
       "      <td>15.588072</td>\n",
       "      <td>15.102393</td>\n",
       "      <td>15.149715</td>\n",
       "      <td>159744526</td>\n",
       "    </tr>\n",
       "    <tr>\n",
       "      <th>3</th>\n",
       "      <td>2010-01-07 00:00:00-05:00</td>\n",
       "      <td>15.178109</td>\n",
       "      <td>15.193053</td>\n",
       "      <td>14.760922</td>\n",
       "      <td>14.797037</td>\n",
       "      <td>257533695</td>\n",
       "    </tr>\n",
       "    <tr>\n",
       "      <th>4</th>\n",
       "      <td>2010-01-08 00:00:00-05:00</td>\n",
       "      <td>14.744733</td>\n",
       "      <td>15.024933</td>\n",
       "      <td>14.672753</td>\n",
       "      <td>14.994298</td>\n",
       "      <td>189680313</td>\n",
       "    </tr>\n",
       "    <tr>\n",
       "      <th>...</th>\n",
       "      <td>...</td>\n",
       "      <td>...</td>\n",
       "      <td>...</td>\n",
       "      <td>...</td>\n",
       "      <td>...</td>\n",
       "      <td>...</td>\n",
       "    </tr>\n",
       "    <tr>\n",
       "      <th>3382</th>\n",
       "      <td>2023-06-12 00:00:00-04:00</td>\n",
       "      <td>123.394997</td>\n",
       "      <td>124.750000</td>\n",
       "      <td>122.349998</td>\n",
       "      <td>124.349998</td>\n",
       "      <td>22255700</td>\n",
       "    </tr>\n",
       "    <tr>\n",
       "      <th>3383</th>\n",
       "      <td>2023-06-13 00:00:00-04:00</td>\n",
       "      <td>125.650002</td>\n",
       "      <td>125.860001</td>\n",
       "      <td>123.845001</td>\n",
       "      <td>124.430000</td>\n",
       "      <td>19287700</td>\n",
       "    </tr>\n",
       "    <tr>\n",
       "      <th>3384</th>\n",
       "      <td>2023-06-14 00:00:00-04:00</td>\n",
       "      <td>123.800003</td>\n",
       "      <td>124.790001</td>\n",
       "      <td>122.160004</td>\n",
       "      <td>124.379997</td>\n",
       "      <td>24659600</td>\n",
       "    </tr>\n",
       "    <tr>\n",
       "      <th>3385</th>\n",
       "      <td>2023-06-15 00:00:00-04:00</td>\n",
       "      <td>123.879997</td>\n",
       "      <td>126.160004</td>\n",
       "      <td>123.139999</td>\n",
       "      <td>125.790001</td>\n",
       "      <td>24517100</td>\n",
       "    </tr>\n",
       "    <tr>\n",
       "      <th>3386</th>\n",
       "      <td>2023-06-16 00:00:00-04:00</td>\n",
       "      <td>126.699997</td>\n",
       "      <td>126.699997</td>\n",
       "      <td>123.790001</td>\n",
       "      <td>124.059998</td>\n",
       "      <td>56686800</td>\n",
       "    </tr>\n",
       "  </tbody>\n",
       "</table>\n",
       "<p>3387 rows × 6 columns</p>\n",
       "</div>"
      ],
      "text/plain": [
       "                          Date        Open        High         Low  \\\n",
       "0    2010-01-04 00:00:00-05:00   15.615220   15.678981   15.547723   \n",
       "1    2010-01-05 00:00:00-05:00   15.620949   15.637387   15.480475   \n",
       "2    2010-01-06 00:00:00-05:00   15.588072   15.588072   15.102393   \n",
       "3    2010-01-07 00:00:00-05:00   15.178109   15.193053   14.760922   \n",
       "4    2010-01-08 00:00:00-05:00   14.744733   15.024933   14.672753   \n",
       "...                        ...         ...         ...         ...   \n",
       "3382 2023-06-12 00:00:00-04:00  123.394997  124.750000  122.349998   \n",
       "3383 2023-06-13 00:00:00-04:00  125.650002  125.860001  123.845001   \n",
       "3384 2023-06-14 00:00:00-04:00  123.800003  124.790001  122.160004   \n",
       "3385 2023-06-15 00:00:00-04:00  123.879997  126.160004  123.139999   \n",
       "3386 2023-06-16 00:00:00-04:00  126.699997  126.699997  123.790001   \n",
       "\n",
       "           Close     Volume  \n",
       "0      15.610239   78541293  \n",
       "1      15.541497  120638494  \n",
       "2      15.149715  159744526  \n",
       "3      14.797037  257533695  \n",
       "4      14.994298  189680313  \n",
       "...          ...        ...  \n",
       "3382  124.349998   22255700  \n",
       "3383  124.430000   19287700  \n",
       "3384  124.379997   24659600  \n",
       "3385  125.790001   24517100  \n",
       "3386  124.059998   56686800  \n",
       "\n",
       "[3387 rows x 6 columns]"
      ]
     },
     "execution_count": 4,
     "metadata": {},
     "output_type": "execute_result"
    }
   ],
   "source": [
    "df = df.drop(['Dividends','Stock Splits'], axis =1)\n",
    "df"
   ]
  },
  {
   "cell_type": "code",
   "execution_count": 5,
   "metadata": {},
   "outputs": [
    {
     "data": {
      "text/plain": [
       "[<matplotlib.lines.Line2D at 0x26f72537280>]"
      ]
     },
     "execution_count": 5,
     "metadata": {},
     "output_type": "execute_result"
    },
    {
     "data": {
      "image/png": "[encoded data removed]",
      "text/plain": [
       "<Figure size 640x480 with 1 Axes>"
      ]
     },
     "metadata": {},
     "output_type": "display_data"
    }
   ],
   "source": [
    "plt.plot(df.Close)"
   ]
  },
  {
   "cell_type": "code",
   "execution_count": 6,
   "metadata": {},
   "outputs": [
    {
     "data": {
      "text/plain": [
       "0             NaN\n",
       "1             NaN\n",
       "2             NaN\n",
       "3             NaN\n",
       "4             NaN\n",
       "          ...    \n",
       "3382    105.80245\n",
       "3383    106.10765\n",
       "3384    106.35865\n",
       "3385    106.60445\n",
       "3386    106.85295\n",
       "Name: Close, Length: 3387, dtype: float64"
      ]
     },
     "execution_count": 6,
     "metadata": {},
     "output_type": "execute_result"
    }
   ],
   "source": [
    "ma100=df.Close.rolling(100).mean()\n",
    "ma100"
   ]
  },
  {
   "cell_type": "code",
   "execution_count": 7,
   "metadata": {},
   "outputs": [
    {
     "data": {
      "text/plain": [
       "[<matplotlib.lines.Line2D at 0x26f746fdcc0>]"
      ]
     },
     "execution_count": 7,
     "metadata": {},
     "output_type": "execute_result"
    },
    {
     "data": {
      "image/png": "[encoded data removed]",
      "text/plain": [
       "<Figure size 1200x600 with 1 Axes>"
      ]
     },
     "metadata": {},
     "output_type": "display_data"
    }
   ],
   "source": [
    "plt.figure(figsize = (12,6))\n",
    "plt.plot(df.Close)\n",
    "plt.plot(ma100)"
   ]
  },
  {
   "cell_type": "code",
   "execution_count": 8,
   "metadata": {},
   "outputs": [
    {
     "data": {
      "text/plain": [
       "0              NaN\n",
       "1              NaN\n",
       "2              NaN\n",
       "3              NaN\n",
       "4              NaN\n",
       "           ...    \n",
       "3382    101.648625\n",
       "3383    101.682275\n",
       "3384    101.747675\n",
       "3385    101.824925\n",
       "3386    101.895675\n",
       "Name: Close, Length: 3387, dtype: float64"
      ]
     },
     "execution_count": 8,
     "metadata": {},
     "output_type": "execute_result"
    }
   ],
   "source": [
    "ma200=df.Close.rolling(200).mean()\n",
    "ma200"
   ]
  },
  {
   "cell_type": "code",
   "execution_count": 9,
   "metadata": {},
   "outputs": [
    {
     "data": {
      "text/plain": [
       "[<matplotlib.lines.Line2D at 0x26f7478d210>]"
      ]
     },
     "execution_count": 9,
     "metadata": {},
     "output_type": "execute_result"
    },
    {
     "data": {
      "image/png": "[encoded data removed]",
      "text/plain": [
       "<Figure size 1200x600 with 1 Axes>"
      ]
     },
     "metadata": {},
     "output_type": "display_data"
    }
   ],
   "source": [
    "plt.figure(figsize = (12,6))\n",
    "plt.plot(df.Close)\n",
    "plt.plot(ma100)\n",
    "plt.plot(ma200)"
   ]
  },
  {
   "cell_type": "code",
   "execution_count": 10,
   "metadata": {},
   "outputs": [
    {
     "data": {
      "text/plain": [
       "(3387, 6)"
      ]
     },
     "execution_count": 10,
     "metadata": {},
     "output_type": "execute_result"
    }
   ],
   "source": [
    "df.shape"
   ]
  },
  {
   "cell_type": "code",
   "execution_count": 11,
   "metadata": {},
   "outputs": [
    {
     "name": "stdout",
     "output_type": "stream",
     "text": [
      "(2370, 1)\n",
      "(1017, 1)\n"
     ]
    }
   ],
   "source": [
    "train_data = pd.DataFrame(df['Close'][0:int(len(df)*0.7)])\n",
    "test_data = pd.DataFrame(df['Close'][int(len(df)*0.7): int(len(df))])\n",
    "\n",
    "print(train_data.shape)\n",
    "print(test_data.shape)"
   ]
  },
  {
   "cell_type": "code",
   "execution_count": 12,
   "metadata": {},
   "outputs": [],
   "source": [
    "from sklearn.preprocessing import MinMaxScaler\n",
    "scaler = MinMaxScaler(feature_range=(0,1))"
   ]
  },
  {
   "cell_type": "code",
   "execution_count": 13,
   "metadata": {},
   "outputs": [
    {
     "data": {
      "text/plain": [
       "array([[0.08874029],\n",
       "       [0.08745582],\n",
       "       [0.08013526],\n",
       "       ...,\n",
       "       [0.82814183],\n",
       "       [0.76517233],\n",
       "       [0.78088668]])"
      ]
     },
     "execution_count": 13,
     "metadata": {},
     "output_type": "execute_result"
    }
   ],
   "source": [
    "train_data_array = scaler.fit_transform(train_data)\n",
    "train_data_array"
   ]
  },
  {
   "cell_type": "code",
   "execution_count": 14,
   "metadata": {},
   "outputs": [
    {
     "name": "stdout",
     "output_type": "stream",
     "text": [
      "(2370, 1)\n"
     ]
    }
   ],
   "source": [
    "print(train_data_array.shape)"
   ]
  },
  {
   "cell_type": "code",
   "execution_count": 15,
   "metadata": {},
   "outputs": [],
   "source": [
    "x_train = []\n",
    "y_train =[] \n",
    "\n",
    "for i in range(100, train_data_array.shape[0]):\n",
    "    x_train.append(train_data_array[i-100:i])\n",
    "    y_train.append(train_data_array[i,0])\n",
    "\n",
    "x_train, y_train = np.array(x_train), np.array(y_train)"
   ]
  },
  {
   "cell_type": "code",
   "execution_count": 16,
   "metadata": {},
   "outputs": [
    {
     "name": "stdout",
     "output_type": "stream",
     "text": [
      "(2270, 100, 1)\n",
      "(2270,)\n"
     ]
    }
   ],
   "source": [
    "print(x_train.shape)\n",
    "print(y_train.shape)"
   ]
  },
  {
   "cell_type": "code",
   "execution_count": 17,
   "metadata": {},
   "outputs": [],
   "source": [
    "from keras.layers import Dense, Dropout, LSTM\n",
    "from keras.models import Sequential"
   ]
  },
  {
   "cell_type": "code",
   "execution_count": 18,
   "metadata": {},
   "outputs": [],
   "source": [
    "model = Sequential()\n",
    "model.add(LSTM(units = 50, activation = 'relu', return_sequences = True, input_shape =(x_train.shape[1],1)))\n",
    "model.add(Dropout(0.2))\n",
    "\n",
    "model.add(LSTM(units = 60, activation = 'relu', return_sequences = True))\n",
    "model.add(Dropout(0.3))\n",
    "\n",
    "model.add(LSTM(units = 80, activation = 'relu', return_sequences = True))\n",
    "model.add(Dropout(0.4))\n",
    "\n",
    "model.add(LSTM(units = 120, activation = 'relu'))\n",
    "model.add(Dropout(0.5))\n",
    "\n",
    "model.add(Dense(units=1))"
   ]
  },
  {
   "cell_type": "code",
   "execution_count": 19,
   "metadata": {},
   "outputs": [
    {
     "name": "stdout",
     "output_type": "stream",
     "text": [
      "Model: \"sequential\"\n",
      "_________________________________________________________________\n",
      " Layer (type)                Output Shape              Param #   \n",
      "=================================================================\n",
      " lstm (LSTM)                 (None, 100, 50)           10400     \n",
      "                                                                 \n",
      " dropout (Dropout)           (None, 100, 50)           0         \n",
      "                                                                 \n",
      " lstm_1 (LSTM)               (None, 100, 60)           26640     \n",
      "                                                                 \n",
      " dropout_1 (Dropout)         (None, 100, 60)           0         \n",
      "                                                                 \n",
      " lstm_2 (LSTM)               (None, 100, 80)           45120     \n",
      "                                                                 \n",
      " dropout_2 (Dropout)         (None, 100, 80)           0         \n",
      "                                                                 \n",
      " lstm_3 (LSTM)               (None, 120)               96480     \n",
      "                                                                 \n",
      " dropout_3 (Dropout)         (None, 120)               0         \n",
      "                                                                 \n",
      " dense (Dense)               (None, 1)                 121       \n",
      "                                                                 \n",
      "=================================================================\n",
      "Total params: 178,761\n",
      "Trainable params: 178,761\n",
      "Non-trainable params: 0\n",
      "_________________________________________________________________\n"
     ]
    }
   ],
   "source": [
    "model.summary()"
   ]
  },
  {
   "cell_type": "code",
   "execution_count": 20,
   "metadata": {},
   "outputs": [
    {
     "name": "stdout",
     "output_type": "stream",
     "text": [
      "Epoch 1/2\n",
      "71/71 [==============================] - 38s 322ms/step - loss: 0.0378 - accuracy: 4.4053e-04\n",
      "Epoch 2/2\n",
      "71/71 [==============================] - 23s 318ms/step - loss: 0.0080 - accuracy: 8.8106e-04\n"
     ]
    },
    {
     "data": {
      "text/plain": [
       "<keras.callbacks.History at 0x26f77a4f580>"
      ]
     },
     "execution_count": 20,
     "metadata": {},
     "output_type": "execute_result"
    }
   ],
   "source": [
    "model.compile(optimizer =  'adam', loss ='mean_squared_error', metrics=['accuracy'])\n",
    "model.fit(x_train,y_train,epochs =2)"
   ]
  },
  {
   "cell_type": "code",
   "execution_count": 21,
   "metadata": {},
   "outputs": [],
   "source": [
    "model.save('keras_model.h5')"
   ]
  },
  {
   "cell_type": "code",
   "execution_count": 22,
   "metadata": {},
   "outputs": [],
   "source": [
    "past_100_days = train_data.tail(100)"
   ]
  },
  {
   "cell_type": "code",
   "execution_count": 23,
   "metadata": {},
   "outputs": [
    {
     "name": "stderr",
     "output_type": "stream",
     "text": [
      "C:\\Users\\HP\\AppData\\Local\\Temp\\ipykernel_89320\\1434291070.py:1: FutureWarning: The frame.append method is deprecated and will be removed from pandas in a future version. Use pandas.concat instead.\n",
      "  final_df = past_100_days.append(test_data, ignore_index =True)\n"
     ]
    }
   ],
   "source": [
    "final_df = past_100_days.append(test_data, ignore_index =True)"
   ]
  },
  {
   "cell_type": "code",
   "execution_count": 24,
   "metadata": {},
   "outputs": [
    {
     "data": {
      "text/html": [
       "<div>\n",
       "<style scoped>\n",
       "    .dataframe tbody tr th:only-of-type {\n",
       "        vertical-align: middle;\n",
       "    }\n",
       "\n",
       "    .dataframe tbody tr th {\n",
       "        vertical-align: top;\n",
       "    }\n",
       "\n",
       "    .dataframe thead th {\n",
       "        text-align: right;\n",
       "    }\n",
       "</style>\n",
       "<table border=\"1\" class=\"dataframe\">\n",
       "  <thead>\n",
       "    <tr style=\"text-align: right;\">\n",
       "      <th></th>\n",
       "      <th>Close</th>\n",
       "    </tr>\n",
       "  </thead>\n",
       "  <tbody>\n",
       "    <tr>\n",
       "      <th>0</th>\n",
       "      <td>53.516499</td>\n",
       "    </tr>\n",
       "    <tr>\n",
       "      <th>1</th>\n",
       "      <td>52.859501</td>\n",
       "    </tr>\n",
       "    <tr>\n",
       "      <th>2</th>\n",
       "      <td>52.234501</td>\n",
       "    </tr>\n",
       "    <tr>\n",
       "      <th>3</th>\n",
       "      <td>53.857498</td>\n",
       "    </tr>\n",
       "    <tr>\n",
       "      <th>4</th>\n",
       "      <td>54.048500</td>\n",
       "    </tr>\n",
       "    <tr>\n",
       "      <th>...</th>\n",
       "      <td>...</td>\n",
       "    </tr>\n",
       "    <tr>\n",
       "      <th>1112</th>\n",
       "      <td>124.349998</td>\n",
       "    </tr>\n",
       "    <tr>\n",
       "      <th>1113</th>\n",
       "      <td>124.430000</td>\n",
       "    </tr>\n",
       "    <tr>\n",
       "      <th>1114</th>\n",
       "      <td>124.379997</td>\n",
       "    </tr>\n",
       "    <tr>\n",
       "      <th>1115</th>\n",
       "      <td>125.790001</td>\n",
       "    </tr>\n",
       "    <tr>\n",
       "      <th>1116</th>\n",
       "      <td>124.059998</td>\n",
       "    </tr>\n",
       "  </tbody>\n",
       "</table>\n",
       "<p>1117 rows × 1 columns</p>\n",
       "</div>"
      ],
      "text/plain": [
       "           Close\n",
       "0      53.516499\n",
       "1      52.859501\n",
       "2      52.234501\n",
       "3      53.857498\n",
       "4      54.048500\n",
       "...          ...\n",
       "1112  124.349998\n",
       "1113  124.430000\n",
       "1114  124.379997\n",
       "1115  125.790001\n",
       "1116  124.059998\n",
       "\n",
       "[1117 rows x 1 columns]"
      ]
     },
     "execution_count": 24,
     "metadata": {},
     "output_type": "execute_result"
    }
   ],
   "source": [
    "final_df"
   ]
  },
  {
   "cell_type": "code",
   "execution_count": 25,
   "metadata": {},
   "outputs": [
    {
     "data": {
      "text/plain": [
       "array([[0.01724005],\n",
       "       [0.01059683],\n",
       "       [0.00427716],\n",
       "       ...,\n",
       "       [0.73377484],\n",
       "       [0.74803206],\n",
       "       [0.73053917]])"
      ]
     },
     "execution_count": 25,
     "metadata": {},
     "output_type": "execute_result"
    }
   ],
   "source": [
    "input_data = scaler.fit_transform(final_df)\n",
    "input_data"
   ]
  },
  {
   "cell_type": "code",
   "execution_count": 26,
   "metadata": {},
   "outputs": [
    {
     "data": {
      "text/plain": [
       "(1117, 1)"
      ]
     },
     "execution_count": 26,
     "metadata": {},
     "output_type": "execute_result"
    }
   ],
   "source": [
    "input_data.shape"
   ]
  },
  {
   "cell_type": "code",
   "execution_count": 27,
   "metadata": {},
   "outputs": [],
   "source": [
    "x_test =[]\n",
    "y_test =[]\n",
    "\n",
    "for i in range(100, input_data.shape[0]):\n",
    "    x_test.append(input_data[i-100:i])\n",
    "    y_test.append(input_data[i,0])"
   ]
  },
  {
   "cell_type": "code",
   "execution_count": 28,
   "metadata": {},
   "outputs": [
    {
     "name": "stdout",
     "output_type": "stream",
     "text": [
      "(1017, 100, 1)\n",
      "(1017,)\n"
     ]
    }
   ],
   "source": [
    "x_test, y_test = np.array(x_test), np.array(y_test)\n",
    "\n",
    "print(x_test.shape)\n",
    "print(y_test.shape)"
   ]
  },
  {
   "cell_type": "code",
   "execution_count": 29,
   "metadata": {},
   "outputs": [
    {
     "name": "stdout",
     "output_type": "stream",
     "text": [
      "32/32 [==============================] - 5s 102ms/step - loss: 0.0037 - accuracy: 9.8328e-04\n",
      "Test loss: 0.0036837232764810324\n",
      "Test accuracy: 0.0009832842042669654\n"
     ]
    }
   ],
   "source": [
    "score = model.evaluate(x_test, y_test)\n",
    "print('Test loss:', score[0])\n",
    "print('Test accuracy:', score[1])"
   ]
  },
  {
   "cell_type": "code",
   "execution_count": 30,
   "metadata": {},
   "outputs": [
    {
     "name": "stdout",
     "output_type": "stream",
     "text": [
      "32/32 [==============================] - 5s 98ms/step\n"
     ]
    }
   ],
   "source": [
    "y_predicted = model.predict(x_test)"
   ]
  },
  {
   "cell_type": "code",
   "execution_count": 31,
   "metadata": {},
   "outputs": [
    {
     "data": {
      "text/plain": [
       "(1017, 1)"
      ]
     },
     "execution_count": 31,
     "metadata": {},
     "output_type": "execute_result"
    }
   ],
   "source": [
    "y_predicted.shape"
   ]
  },
  {
   "cell_type": "code",
   "execution_count": 32,
   "metadata": {},
   "outputs": [
    {
     "data": {
      "text/plain": [
       "array([0.01011148])"
      ]
     },
     "execution_count": 32,
     "metadata": {},
     "output_type": "execute_result"
    }
   ],
   "source": [
    "scaler.scale_"
   ]
  },
  {
   "cell_type": "code",
   "execution_count": 33,
   "metadata": {},
   "outputs": [
    {
     "name": "stdout",
     "output_type": "stream",
     "text": [
      "0.010111479150204359\n"
     ]
    }
   ],
   "source": [
    "d = scaler.scale_[0]\n",
    "print(d)"
   ]
  },
  {
   "cell_type": "code",
   "execution_count": 34,
   "metadata": {},
   "outputs": [],
   "source": [
    "scale_factor=1/d\n",
    "y_predicted = y_predicted*scale_factor\n",
    "y_test = y_test*scale_factor\n",
    "y_train = y_train*scale_factor\n"
   ]
  },
  {
   "cell_type": "code",
   "execution_count": 52,
   "metadata": {},
   "outputs": [
    {
     "data": {
      "text/plain": [
       "(1017, 1)"
      ]
     },
     "execution_count": 52,
     "metadata": {},
     "output_type": "execute_result"
    }
   ],
   "source": [
    "y_predicted.shape"
   ]
  },
  {
   "cell_type": "code",
   "execution_count": 53,
   "metadata": {},
   "outputs": [
    {
     "data": {
      "text/plain": [
       "(1017,)"
      ]
     },
     "execution_count": 53,
     "metadata": {},
     "output_type": "execute_result"
    }
   ],
   "source": [
    "y_test.shape"
   ]
  },
  {
   "cell_type": "code",
   "execution_count": 50,
   "metadata": {},
   "outputs": [],
   "source": [
    "import json\n",
    "\n",
    "class NumpyEncoder(json.JSONEncoder):\n",
    "    \"\"\" Special json encoder for numpy types \"\"\"\n",
    "    def default(self, obj):\n",
    "        if isinstance(obj, np.integer):\n",
    "            return int(obj)\n",
    "        elif isinstance(obj, np.floating):\n",
    "            return float(obj)\n",
    "        elif isinstance(obj, np.ndarray):\n",
    "            return obj.tolist()\n",
    "        return json.JSONEncoder.default(self, obj)\n",
    "\n",
    "dumped = json.dumps(y_test, cls=NumpyEncoder)\n",
    "dumped1 = json.dumps(y_predicted, cls=NumpyEncoder)\n",
    "\n",
    "with open(\"y_test.json\", 'w') as f:\n",
    "    json.dump(dumped, f)\n",
    "with open(\"y_predicted.json\", 'w') as f:\n",
    "    json.dump(dumped1, f)\n",
    "    "
   ]
  },
  {
   "cell_type": "code",
   "execution_count": 35,
   "metadata": {},
   "outputs": [
    {
     "data": {
      "image/png": "[encoded data removed]",
      "text/plain": [
       "<Figure size 1200x600 with 1 Axes>"
      ]
     },
     "metadata": {},
     "output_type": "display_data"
    }
   ],
   "source": [
    "plt.figure(figsize=(12,6))\n",
    "\n",
    "plt.plot(y_test , 'b', label = 'Original Price')\n",
    "plt.plot(y_predicted , 'r', label = 'Predicted Price')\n",
    "plt.xlabel('Time')\n",
    "plt.ylabel('Price')\n",
    "plt.legend()\n",
    "plt.show()"
   ]
  },
  {
   "cell_type": "code",
   "execution_count": 36,
   "metadata": {},
   "outputs": [
    {
     "data": {
      "text/plain": [
       "(1017, 1)"
      ]
     },
     "execution_count": 36,
     "metadata": {},
     "output_type": "execute_result"
    }
   ],
   "source": [
    "y_predicted= y_predicted.reshape(y_predicted.shape,)\n",
    "y_predicted.shape\n"
   ]
  },
  {
   "cell_type": "code",
   "execution_count": 37,
   "metadata": {},
   "outputs": [
    {
     "data": {
      "text/plain": [
       "6.00245338143232"
      ]
     },
     "execution_count": 37,
     "metadata": {},
     "output_type": "execute_result"
    }
   ],
   "source": [
    "import math\n",
    "from sklearn.metrics import mean_squared_error\n",
    "math.sqrt(mean_squared_error(y_test,y_predicted))"
   ]
  },
  {
   "cell_type": "code",
   "execution_count": 38,
   "metadata": {},
   "outputs": [
    {
     "name": "stdout",
     "output_type": "stream",
     "text": [
      "Keras weights file (<HDF5 file \"variables.h5\" (mode r+)>) saving:\n",
      "...layers\\dense\n",
      "......vars\n",
      ".........0\n",
      ".........1\n",
      "...layers\\dropout\n",
      "......vars\n",
      "...layers\\dropout_1\n",
      "......vars\n",
      "...layers\\dropout_2\n",
      "......vars\n",
      "...layers\\dropout_3\n",
      "......vars\n",
      "...layers\\lstm\n",
      "......vars\n",
      "...layers\\lstm\\cell\n",
      "......vars\n",
      ".........0\n",
      ".........1\n",
      ".........2\n",
      "...layers\\lstm_1\n",
      "......vars\n",
      "...layers\\lstm_1\\cell\n",
      "......vars\n",
      ".........0\n",
      ".........1\n",
      ".........2\n",
      "...layers\\lstm_2\n",
      "......vars\n",
      "...layers\\lstm_2\\cell\n",
      "......vars\n",
      ".........0\n",
      ".........1\n",
      ".........2\n",
      "...layers\\lstm_3\n",
      "......vars\n",
      "...layers\\lstm_3\\cell\n",
      "......vars\n",
      ".........0\n",
      ".........1\n",
      ".........2\n",
      "...metrics\\mean\n",
      "......vars\n",
      ".........0\n",
      ".........1\n",
      "...metrics\\mean_metric_wrapper\n",
      "......vars\n",
      ".........0\n",
      ".........1\n",
      "...optimizer\n",
      "......vars\n",
      ".........0\n",
      ".........1\n",
      ".........10\n",
      ".........11\n",
      ".........12\n",
      ".........13\n",
      ".........14\n",
      ".........15\n",
      ".........16\n",
      ".........17\n",
      ".........18\n",
      ".........19\n",
      ".........2\n",
      ".........20\n",
      ".........21\n",
      ".........22\n",
      ".........23\n",
      ".........24\n",
      ".........25\n",
      ".........26\n",
      ".........27\n",
      ".........28\n",
      ".........3\n",
      ".........4\n",
      ".........5\n",
      ".........6\n",
      ".........7\n",
      ".........8\n",
      ".........9\n",
      "...vars\n",
      "Keras model archive saving:\n",
      "File Name                                             Modified             Size\n",
      "config.json                                    2023-06-18 15:47:05         4891\n",
      "metadata.json                                  2023-06-18 15:47:05           64\n",
      "variables.h5                                   2023-06-18 15:47:05      2195304\n"
     ]
    }
   ],
   "source": [
    "import pickle\n",
    "pickle.dump(model, open('keras_model.pkl', 'wb'))"
   ]
  },
  {
   "cell_type": "code",
   "execution_count": 39,
   "metadata": {},
   "outputs": [],
   "source": [
    "# Saving the model for Future Inferences\n",
    "\n",
    "model_json = model.to_json()\n",
    "with open(\"model.json\", \"w\") as json_file:\n",
    "    json_file.write(model_json)\n",
    "# serialize weights to HDF5\n",
    "model.save_weights(\"model.h5\")"
   ]
  },
  {
   "cell_type": "code",
   "execution_count": 40,
   "metadata": {},
   "outputs": [
    {
     "name": "stdout",
     "output_type": "stream",
     "text": [
      "Keras model archive loading:\n",
      "File Name                                             Modified             Size\n",
      "config.json                                    2023-06-18 15:47:04         4891\n",
      "metadata.json                                  2023-06-18 15:47:04           64\n",
      "variables.h5                                   2023-06-18 15:47:04      2195304\n",
      "Keras weights file (<HDF5 file \"variables.h5\" (mode r)>) loading:\n",
      "...layers\\dense\n",
      "......vars\n",
      ".........0\n",
      ".........1\n",
      "...layers\\dropout\n",
      "......vars\n",
      "...layers\\dropout_1\n",
      "......vars\n",
      "...layers\\dropout_2\n",
      "......vars\n",
      "...layers\\dropout_3\n",
      "......vars\n",
      "...layers\\lstm\n",
      "......vars\n",
      "...layers\\lstm\\cell\n",
      "......vars\n",
      ".........0\n",
      ".........1\n",
      ".........2\n",
      "...layers\\lstm_1\n",
      "......vars\n",
      "...layers\\lstm_1\\cell\n",
      "......vars\n",
      ".........0\n",
      ".........1\n",
      ".........2\n",
      "...layers\\lstm_2\n",
      "......vars\n",
      "...layers\\lstm_2\\cell\n",
      "......vars\n",
      ".........0\n",
      ".........1\n",
      ".........2\n",
      "...layers\\lstm_3\n",
      "......vars\n",
      "...layers\\lstm_3\\cell\n",
      "......vars\n",
      ".........0\n",
      ".........1\n",
      ".........2\n",
      "...metrics\\mean\n",
      "......vars\n",
      ".........0\n",
      ".........1\n",
      "...metrics\\mean_metric_wrapper\n",
      "......vars\n",
      ".........0\n",
      ".........1\n",
      "...optimizer\n",
      "......vars\n",
      ".........0\n",
      ".........1\n",
      ".........10\n",
      ".........11\n",
      ".........12\n",
      ".........13\n",
      ".........14\n",
      ".........15\n",
      ".........16\n",
      ".........17\n",
      ".........18\n",
      ".........19\n",
      ".........2\n",
      ".........20\n",
      ".........21\n",
      ".........22\n",
      ".........23\n",
      ".........24\n",
      ".........25\n",
      ".........26\n",
      ".........27\n",
      ".........28\n",
      ".........3\n",
      ".........4\n",
      ".........5\n",
      ".........6\n",
      ".........7\n",
      ".........8\n",
      ".........9\n",
      "...vars\n"
     ]
    }
   ],
   "source": [
    "model=pickle.load(open('keras_model.pkl',\"rb\"))\n"
   ]
  },
  {
   "cell_type": "code",
   "execution_count": 54,
   "metadata": {},
   "outputs": [],
   "source": [
    "from flask import Flask\n",
    "\n",
    "\n",
    "def create_app():\n",
    "    app = Flask(__name__)\n",
    "    @app.route('/')\n",
    "    def hello_world():\n",
    "        return 'Hello, World This is Prediction!'\n",
    "    \n",
    "    @app.route('/prediction/<ticker_name>')\n",
    "    def prediction_result(ticker_name):\n",
    "        return y_test.json\n",
    "        \n",
    "    return app\n",
    "app = create_app()"
   ]
  }
 ],
 "metadata": {
  "kernelspec": {
   "display_name": "Python 3",
   "language": "python",
   "name": "python3"
  },
  "language_info": {
   "codemirror_mode": {
    "name": "ipython",
    "version": 3
   },
   "file_extension": ".py",
   "mimetype": "text/x-python",
   "name": "python",
   "nbconvert_exporter": "python",
   "pygments_lexer": "ipython3",
   "version": "3.10.7"
  },
  "orig_nbformat": 4
 },
 "nbformat": 4,
 "nbformat_minor": 2
}
