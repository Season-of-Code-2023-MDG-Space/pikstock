{
 "cells": [
  {
   "cell_type": "code",
   "execution_count": 62,
   "metadata": {},
   "outputs": [],
   "source": [
    "import numpy as np\n",
    "import pandas as pd\n",
    "import matplotlib.pyplot as plt\n",
    "import pandas_datareader as pdr\n",
    "import yfinance as yf"
   ]
  },
  {
   "cell_type": "code",
   "execution_count": 71,
   "metadata": {},
   "outputs": [
    {
     "data": {
      "text/html": [
       "<div>\n",
       "<style scoped>\n",
       "    .dataframe tbody tr th:only-of-type {\n",
       "        vertical-align: middle;\n",
       "    }\n",
       "\n",
       "    .dataframe tbody tr th {\n",
       "        vertical-align: top;\n",
       "    }\n",
       "\n",
       "    .dataframe thead th {\n",
       "        text-align: right;\n",
       "    }\n",
       "</style>\n",
       "<table border=\"1\" class=\"dataframe\">\n",
       "  <thead>\n",
       "    <tr style=\"text-align: right;\">\n",
       "      <th></th>\n",
       "      <th>Open</th>\n",
       "      <th>High</th>\n",
       "      <th>Low</th>\n",
       "      <th>Close</th>\n",
       "      <th>Volume</th>\n",
       "      <th>Dividends</th>\n",
       "      <th>Stock Splits</th>\n",
       "    </tr>\n",
       "    <tr>\n",
       "      <th>Date</th>\n",
       "      <th></th>\n",
       "      <th></th>\n",
       "      <th></th>\n",
       "      <th></th>\n",
       "      <th></th>\n",
       "      <th></th>\n",
       "      <th></th>\n",
       "    </tr>\n",
       "  </thead>\n",
       "  <tbody>\n",
       "    <tr>\n",
       "      <th>2010-01-04 00:00:00-05:00</th>\n",
       "      <td>15.615220</td>\n",
       "      <td>15.678981</td>\n",
       "      <td>15.547723</td>\n",
       "      <td>15.610239</td>\n",
       "      <td>78541293</td>\n",
       "      <td>0.0</td>\n",
       "      <td>0.0</td>\n",
       "    </tr>\n",
       "    <tr>\n",
       "      <th>2010-01-05 00:00:00-05:00</th>\n",
       "      <td>15.620949</td>\n",
       "      <td>15.637387</td>\n",
       "      <td>15.480475</td>\n",
       "      <td>15.541497</td>\n",
       "      <td>120638494</td>\n",
       "      <td>0.0</td>\n",
       "      <td>0.0</td>\n",
       "    </tr>\n",
       "    <tr>\n",
       "      <th>2010-01-06 00:00:00-05:00</th>\n",
       "      <td>15.588072</td>\n",
       "      <td>15.588072</td>\n",
       "      <td>15.102393</td>\n",
       "      <td>15.149715</td>\n",
       "      <td>159744526</td>\n",
       "      <td>0.0</td>\n",
       "      <td>0.0</td>\n",
       "    </tr>\n",
       "    <tr>\n",
       "      <th>2010-01-07 00:00:00-05:00</th>\n",
       "      <td>15.178109</td>\n",
       "      <td>15.193053</td>\n",
       "      <td>14.760922</td>\n",
       "      <td>14.797037</td>\n",
       "      <td>257533695</td>\n",
       "      <td>0.0</td>\n",
       "      <td>0.0</td>\n",
       "    </tr>\n",
       "    <tr>\n",
       "      <th>2010-01-08 00:00:00-05:00</th>\n",
       "      <td>14.744733</td>\n",
       "      <td>15.024933</td>\n",
       "      <td>14.672753</td>\n",
       "      <td>14.994298</td>\n",
       "      <td>189680313</td>\n",
       "      <td>0.0</td>\n",
       "      <td>0.0</td>\n",
       "    </tr>\n",
       "    <tr>\n",
       "      <th>...</th>\n",
       "      <td>...</td>\n",
       "      <td>...</td>\n",
       "      <td>...</td>\n",
       "      <td>...</td>\n",
       "      <td>...</td>\n",
       "      <td>...</td>\n",
       "      <td>...</td>\n",
       "    </tr>\n",
       "    <tr>\n",
       "      <th>2023-03-06 00:00:00-05:00</th>\n",
       "      <td>94.360001</td>\n",
       "      <td>96.300003</td>\n",
       "      <td>94.300003</td>\n",
       "      <td>95.580002</td>\n",
       "      <td>28288200</td>\n",
       "      <td>0.0</td>\n",
       "      <td>0.0</td>\n",
       "    </tr>\n",
       "    <tr>\n",
       "      <th>2023-03-07 00:00:00-05:00</th>\n",
       "      <td>95.419998</td>\n",
       "      <td>96.089996</td>\n",
       "      <td>93.844002</td>\n",
       "      <td>94.169998</td>\n",
       "      <td>24101500</td>\n",
       "      <td>0.0</td>\n",
       "      <td>0.0</td>\n",
       "    </tr>\n",
       "    <tr>\n",
       "      <th>2023-03-08 00:00:00-05:00</th>\n",
       "      <td>94.404999</td>\n",
       "      <td>96.239998</td>\n",
       "      <td>94.404999</td>\n",
       "      <td>94.650002</td>\n",
       "      <td>25395200</td>\n",
       "      <td>0.0</td>\n",
       "      <td>0.0</td>\n",
       "    </tr>\n",
       "    <tr>\n",
       "      <th>2023-03-09 00:00:00-05:00</th>\n",
       "      <td>94.489998</td>\n",
       "      <td>95.919998</td>\n",
       "      <td>92.355003</td>\n",
       "      <td>92.660004</td>\n",
       "      <td>24438900</td>\n",
       "      <td>0.0</td>\n",
       "      <td>0.0</td>\n",
       "    </tr>\n",
       "    <tr>\n",
       "      <th>2023-03-10 00:00:00-05:00</th>\n",
       "      <td>92.500000</td>\n",
       "      <td>93.180000</td>\n",
       "      <td>90.800003</td>\n",
       "      <td>91.010002</td>\n",
       "      <td>31733335</td>\n",
       "      <td>0.0</td>\n",
       "      <td>0.0</td>\n",
       "    </tr>\n",
       "  </tbody>\n",
       "</table>\n",
       "<p>3319 rows × 7 columns</p>\n",
       "</div>"
      ],
      "text/plain": [
       "                                Open       High        Low      Close  \\\n",
       "Date                                                                    \n",
       "2010-01-04 00:00:00-05:00  15.615220  15.678981  15.547723  15.610239   \n",
       "2010-01-05 00:00:00-05:00  15.620949  15.637387  15.480475  15.541497   \n",
       "2010-01-06 00:00:00-05:00  15.588072  15.588072  15.102393  15.149715   \n",
       "2010-01-07 00:00:00-05:00  15.178109  15.193053  14.760922  14.797037   \n",
       "2010-01-08 00:00:00-05:00  14.744733  15.024933  14.672753  14.994298   \n",
       "...                              ...        ...        ...        ...   \n",
       "2023-03-06 00:00:00-05:00  94.360001  96.300003  94.300003  95.580002   \n",
       "2023-03-07 00:00:00-05:00  95.419998  96.089996  93.844002  94.169998   \n",
       "2023-03-08 00:00:00-05:00  94.404999  96.239998  94.404999  94.650002   \n",
       "2023-03-09 00:00:00-05:00  94.489998  95.919998  92.355003  92.660004   \n",
       "2023-03-10 00:00:00-05:00  92.500000  93.180000  90.800003  91.010002   \n",
       "\n",
       "                              Volume  Dividends  Stock Splits  \n",
       "Date                                                           \n",
       "2010-01-04 00:00:00-05:00   78541293        0.0           0.0  \n",
       "2010-01-05 00:00:00-05:00  120638494        0.0           0.0  \n",
       "2010-01-06 00:00:00-05:00  159744526        0.0           0.0  \n",
       "2010-01-07 00:00:00-05:00  257533695        0.0           0.0  \n",
       "2010-01-08 00:00:00-05:00  189680313        0.0           0.0  \n",
       "...                              ...        ...           ...  \n",
       "2023-03-06 00:00:00-05:00   28288200        0.0           0.0  \n",
       "2023-03-07 00:00:00-05:00   24101500        0.0           0.0  \n",
       "2023-03-08 00:00:00-05:00   25395200        0.0           0.0  \n",
       "2023-03-09 00:00:00-05:00   24438900        0.0           0.0  \n",
       "2023-03-10 00:00:00-05:00   31733335        0.0           0.0  \n",
       "\n",
       "[3319 rows x 7 columns]"
      ]
     },
     "execution_count": 71,
     "metadata": {},
     "output_type": "execute_result"
    }
   ],
   "source": [
    "ticker = yf.Ticker('GOOG')\n",
    "start_date = '2010-01-01'\n",
    "df = ticker.history(start = start_date)\n",
    "df"
   ]
  },
  {
   "cell_type": "code",
   "execution_count": 72,
   "metadata": {},
   "outputs": [
    {
     "data": {
      "text/html": [
       "<div>\n",
       "<style scoped>\n",
       "    .dataframe tbody tr th:only-of-type {\n",
       "        vertical-align: middle;\n",
       "    }\n",
       "\n",
       "    .dataframe tbody tr th {\n",
       "        vertical-align: top;\n",
       "    }\n",
       "\n",
       "    .dataframe thead th {\n",
       "        text-align: right;\n",
       "    }\n",
       "</style>\n",
       "<table border=\"1\" class=\"dataframe\">\n",
       "  <thead>\n",
       "    <tr style=\"text-align: right;\">\n",
       "      <th></th>\n",
       "      <th>Date</th>\n",
       "      <th>Open</th>\n",
       "      <th>High</th>\n",
       "      <th>Low</th>\n",
       "      <th>Close</th>\n",
       "      <th>Volume</th>\n",
       "      <th>Dividends</th>\n",
       "      <th>Stock Splits</th>\n",
       "    </tr>\n",
       "  </thead>\n",
       "  <tbody>\n",
       "    <tr>\n",
       "      <th>0</th>\n",
       "      <td>2010-01-04 00:00:00-05:00</td>\n",
       "      <td>15.615220</td>\n",
       "      <td>15.678981</td>\n",
       "      <td>15.547723</td>\n",
       "      <td>15.610239</td>\n",
       "      <td>78541293</td>\n",
       "      <td>0.0</td>\n",
       "      <td>0.0</td>\n",
       "    </tr>\n",
       "    <tr>\n",
       "      <th>1</th>\n",
       "      <td>2010-01-05 00:00:00-05:00</td>\n",
       "      <td>15.620949</td>\n",
       "      <td>15.637387</td>\n",
       "      <td>15.480475</td>\n",
       "      <td>15.541497</td>\n",
       "      <td>120638494</td>\n",
       "      <td>0.0</td>\n",
       "      <td>0.0</td>\n",
       "    </tr>\n",
       "    <tr>\n",
       "      <th>2</th>\n",
       "      <td>2010-01-06 00:00:00-05:00</td>\n",
       "      <td>15.588072</td>\n",
       "      <td>15.588072</td>\n",
       "      <td>15.102393</td>\n",
       "      <td>15.149715</td>\n",
       "      <td>159744526</td>\n",
       "      <td>0.0</td>\n",
       "      <td>0.0</td>\n",
       "    </tr>\n",
       "    <tr>\n",
       "      <th>3</th>\n",
       "      <td>2010-01-07 00:00:00-05:00</td>\n",
       "      <td>15.178109</td>\n",
       "      <td>15.193053</td>\n",
       "      <td>14.760922</td>\n",
       "      <td>14.797037</td>\n",
       "      <td>257533695</td>\n",
       "      <td>0.0</td>\n",
       "      <td>0.0</td>\n",
       "    </tr>\n",
       "    <tr>\n",
       "      <th>4</th>\n",
       "      <td>2010-01-08 00:00:00-05:00</td>\n",
       "      <td>14.744733</td>\n",
       "      <td>15.024933</td>\n",
       "      <td>14.672753</td>\n",
       "      <td>14.994298</td>\n",
       "      <td>189680313</td>\n",
       "      <td>0.0</td>\n",
       "      <td>0.0</td>\n",
       "    </tr>\n",
       "    <tr>\n",
       "      <th>...</th>\n",
       "      <td>...</td>\n",
       "      <td>...</td>\n",
       "      <td>...</td>\n",
       "      <td>...</td>\n",
       "      <td>...</td>\n",
       "      <td>...</td>\n",
       "      <td>...</td>\n",
       "      <td>...</td>\n",
       "    </tr>\n",
       "    <tr>\n",
       "      <th>3314</th>\n",
       "      <td>2023-03-06 00:00:00-05:00</td>\n",
       "      <td>94.360001</td>\n",
       "      <td>96.300003</td>\n",
       "      <td>94.300003</td>\n",
       "      <td>95.580002</td>\n",
       "      <td>28288200</td>\n",
       "      <td>0.0</td>\n",
       "      <td>0.0</td>\n",
       "    </tr>\n",
       "    <tr>\n",
       "      <th>3315</th>\n",
       "      <td>2023-03-07 00:00:00-05:00</td>\n",
       "      <td>95.419998</td>\n",
       "      <td>96.089996</td>\n",
       "      <td>93.844002</td>\n",
       "      <td>94.169998</td>\n",
       "      <td>24101500</td>\n",
       "      <td>0.0</td>\n",
       "      <td>0.0</td>\n",
       "    </tr>\n",
       "    <tr>\n",
       "      <th>3316</th>\n",
       "      <td>2023-03-08 00:00:00-05:00</td>\n",
       "      <td>94.404999</td>\n",
       "      <td>96.239998</td>\n",
       "      <td>94.404999</td>\n",
       "      <td>94.650002</td>\n",
       "      <td>25395200</td>\n",
       "      <td>0.0</td>\n",
       "      <td>0.0</td>\n",
       "    </tr>\n",
       "    <tr>\n",
       "      <th>3317</th>\n",
       "      <td>2023-03-09 00:00:00-05:00</td>\n",
       "      <td>94.489998</td>\n",
       "      <td>95.919998</td>\n",
       "      <td>92.355003</td>\n",
       "      <td>92.660004</td>\n",
       "      <td>24438900</td>\n",
       "      <td>0.0</td>\n",
       "      <td>0.0</td>\n",
       "    </tr>\n",
       "    <tr>\n",
       "      <th>3318</th>\n",
       "      <td>2023-03-10 00:00:00-05:00</td>\n",
       "      <td>92.500000</td>\n",
       "      <td>93.180000</td>\n",
       "      <td>90.800003</td>\n",
       "      <td>91.010002</td>\n",
       "      <td>31733335</td>\n",
       "      <td>0.0</td>\n",
       "      <td>0.0</td>\n",
       "    </tr>\n",
       "  </tbody>\n",
       "</table>\n",
       "<p>3319 rows × 8 columns</p>\n",
       "</div>"
      ],
      "text/plain": [
       "                          Date       Open       High        Low      Close  \\\n",
       "0    2010-01-04 00:00:00-05:00  15.615220  15.678981  15.547723  15.610239   \n",
       "1    2010-01-05 00:00:00-05:00  15.620949  15.637387  15.480475  15.541497   \n",
       "2    2010-01-06 00:00:00-05:00  15.588072  15.588072  15.102393  15.149715   \n",
       "3    2010-01-07 00:00:00-05:00  15.178109  15.193053  14.760922  14.797037   \n",
       "4    2010-01-08 00:00:00-05:00  14.744733  15.024933  14.672753  14.994298   \n",
       "...                        ...        ...        ...        ...        ...   \n",
       "3314 2023-03-06 00:00:00-05:00  94.360001  96.300003  94.300003  95.580002   \n",
       "3315 2023-03-07 00:00:00-05:00  95.419998  96.089996  93.844002  94.169998   \n",
       "3316 2023-03-08 00:00:00-05:00  94.404999  96.239998  94.404999  94.650002   \n",
       "3317 2023-03-09 00:00:00-05:00  94.489998  95.919998  92.355003  92.660004   \n",
       "3318 2023-03-10 00:00:00-05:00  92.500000  93.180000  90.800003  91.010002   \n",
       "\n",
       "         Volume  Dividends  Stock Splits  \n",
       "0      78541293        0.0           0.0  \n",
       "1     120638494        0.0           0.0  \n",
       "2     159744526        0.0           0.0  \n",
       "3     257533695        0.0           0.0  \n",
       "4     189680313        0.0           0.0  \n",
       "...         ...        ...           ...  \n",
       "3314   28288200        0.0           0.0  \n",
       "3315   24101500        0.0           0.0  \n",
       "3316   25395200        0.0           0.0  \n",
       "3317   24438900        0.0           0.0  \n",
       "3318   31733335        0.0           0.0  \n",
       "\n",
       "[3319 rows x 8 columns]"
      ]
     },
     "execution_count": 72,
     "metadata": {},
     "output_type": "execute_result"
    }
   ],
   "source": [
    "df = df.reset_index()\n",
    "df"
   ]
  },
  {
   "cell_type": "code",
   "execution_count": 73,
   "metadata": {},
   "outputs": [
    {
     "data": {
      "text/html": [
       "<div>\n",
       "<style scoped>\n",
       "    .dataframe tbody tr th:only-of-type {\n",
       "        vertical-align: middle;\n",
       "    }\n",
       "\n",
       "    .dataframe tbody tr th {\n",
       "        vertical-align: top;\n",
       "    }\n",
       "\n",
       "    .dataframe thead th {\n",
       "        text-align: right;\n",
       "    }\n",
       "</style>\n",
       "<table border=\"1\" class=\"dataframe\">\n",
       "  <thead>\n",
       "    <tr style=\"text-align: right;\">\n",
       "      <th></th>\n",
       "      <th>Date</th>\n",
       "      <th>Open</th>\n",
       "      <th>High</th>\n",
       "      <th>Low</th>\n",
       "      <th>Close</th>\n",
       "      <th>Volume</th>\n",
       "    </tr>\n",
       "  </thead>\n",
       "  <tbody>\n",
       "    <tr>\n",
       "      <th>0</th>\n",
       "      <td>2010-01-04 00:00:00-05:00</td>\n",
       "      <td>15.615220</td>\n",
       "      <td>15.678981</td>\n",
       "      <td>15.547723</td>\n",
       "      <td>15.610239</td>\n",
       "      <td>78541293</td>\n",
       "    </tr>\n",
       "    <tr>\n",
       "      <th>1</th>\n",
       "      <td>2010-01-05 00:00:00-05:00</td>\n",
       "      <td>15.620949</td>\n",
       "      <td>15.637387</td>\n",
       "      <td>15.480475</td>\n",
       "      <td>15.541497</td>\n",
       "      <td>120638494</td>\n",
       "    </tr>\n",
       "    <tr>\n",
       "      <th>2</th>\n",
       "      <td>2010-01-06 00:00:00-05:00</td>\n",
       "      <td>15.588072</td>\n",
       "      <td>15.588072</td>\n",
       "      <td>15.102393</td>\n",
       "      <td>15.149715</td>\n",
       "      <td>159744526</td>\n",
       "    </tr>\n",
       "    <tr>\n",
       "      <th>3</th>\n",
       "      <td>2010-01-07 00:00:00-05:00</td>\n",
       "      <td>15.178109</td>\n",
       "      <td>15.193053</td>\n",
       "      <td>14.760922</td>\n",
       "      <td>14.797037</td>\n",
       "      <td>257533695</td>\n",
       "    </tr>\n",
       "    <tr>\n",
       "      <th>4</th>\n",
       "      <td>2010-01-08 00:00:00-05:00</td>\n",
       "      <td>14.744733</td>\n",
       "      <td>15.024933</td>\n",
       "      <td>14.672753</td>\n",
       "      <td>14.994298</td>\n",
       "      <td>189680313</td>\n",
       "    </tr>\n",
       "    <tr>\n",
       "      <th>...</th>\n",
       "      <td>...</td>\n",
       "      <td>...</td>\n",
       "      <td>...</td>\n",
       "      <td>...</td>\n",
       "      <td>...</td>\n",
       "      <td>...</td>\n",
       "    </tr>\n",
       "    <tr>\n",
       "      <th>3314</th>\n",
       "      <td>2023-03-06 00:00:00-05:00</td>\n",
       "      <td>94.360001</td>\n",
       "      <td>96.300003</td>\n",
       "      <td>94.300003</td>\n",
       "      <td>95.580002</td>\n",
       "      <td>28288200</td>\n",
       "    </tr>\n",
       "    <tr>\n",
       "      <th>3315</th>\n",
       "      <td>2023-03-07 00:00:00-05:00</td>\n",
       "      <td>95.419998</td>\n",
       "      <td>96.089996</td>\n",
       "      <td>93.844002</td>\n",
       "      <td>94.169998</td>\n",
       "      <td>24101500</td>\n",
       "    </tr>\n",
       "    <tr>\n",
       "      <th>3316</th>\n",
       "      <td>2023-03-08 00:00:00-05:00</td>\n",
       "      <td>94.404999</td>\n",
       "      <td>96.239998</td>\n",
       "      <td>94.404999</td>\n",
       "      <td>94.650002</td>\n",
       "      <td>25395200</td>\n",
       "    </tr>\n",
       "    <tr>\n",
       "      <th>3317</th>\n",
       "      <td>2023-03-09 00:00:00-05:00</td>\n",
       "      <td>94.489998</td>\n",
       "      <td>95.919998</td>\n",
       "      <td>92.355003</td>\n",
       "      <td>92.660004</td>\n",
       "      <td>24438900</td>\n",
       "    </tr>\n",
       "    <tr>\n",
       "      <th>3318</th>\n",
       "      <td>2023-03-10 00:00:00-05:00</td>\n",
       "      <td>92.500000</td>\n",
       "      <td>93.180000</td>\n",
       "      <td>90.800003</td>\n",
       "      <td>91.010002</td>\n",
       "      <td>31733335</td>\n",
       "    </tr>\n",
       "  </tbody>\n",
       "</table>\n",
       "<p>3319 rows × 6 columns</p>\n",
       "</div>"
      ],
      "text/plain": [
       "                          Date       Open       High        Low      Close  \\\n",
       "0    2010-01-04 00:00:00-05:00  15.615220  15.678981  15.547723  15.610239   \n",
       "1    2010-01-05 00:00:00-05:00  15.620949  15.637387  15.480475  15.541497   \n",
       "2    2010-01-06 00:00:00-05:00  15.588072  15.588072  15.102393  15.149715   \n",
       "3    2010-01-07 00:00:00-05:00  15.178109  15.193053  14.760922  14.797037   \n",
       "4    2010-01-08 00:00:00-05:00  14.744733  15.024933  14.672753  14.994298   \n",
       "...                        ...        ...        ...        ...        ...   \n",
       "3314 2023-03-06 00:00:00-05:00  94.360001  96.300003  94.300003  95.580002   \n",
       "3315 2023-03-07 00:00:00-05:00  95.419998  96.089996  93.844002  94.169998   \n",
       "3316 2023-03-08 00:00:00-05:00  94.404999  96.239998  94.404999  94.650002   \n",
       "3317 2023-03-09 00:00:00-05:00  94.489998  95.919998  92.355003  92.660004   \n",
       "3318 2023-03-10 00:00:00-05:00  92.500000  93.180000  90.800003  91.010002   \n",
       "\n",
       "         Volume  \n",
       "0      78541293  \n",
       "1     120638494  \n",
       "2     159744526  \n",
       "3     257533695  \n",
       "4     189680313  \n",
       "...         ...  \n",
       "3314   28288200  \n",
       "3315   24101500  \n",
       "3316   25395200  \n",
       "3317   24438900  \n",
       "3318   31733335  \n",
       "\n",
       "[3319 rows x 6 columns]"
      ]
     },
     "execution_count": 73,
     "metadata": {},
     "output_type": "execute_result"
    }
   ],
   "source": [
    "df = df.drop(['Dividends','Stock Splits'], axis =1)\n",
    "df"
   ]
  },
  {
   "cell_type": "code",
   "execution_count": 74,
   "metadata": {},
   "outputs": [
    {
     "data": {
      "text/plain": [
       "[<matplotlib.lines.Line2D at 0x1a6b6632230>]"
      ]
     },
     "execution_count": 74,
     "metadata": {},
     "output_type": "execute_result"
    },
    {
     "data": {
      "image/png": "[encoded data removed]",
      "text/plain": [
       "<Figure size 640x480 with 1 Axes>"
      ]
     },
     "metadata": {},
     "output_type": "display_data"
    }
   ],
   "source": [
    "plt.plot(df.Close)"
   ]
  },
  {
   "cell_type": "code",
   "execution_count": 75,
   "metadata": {},
   "outputs": [
    {
     "data": {
      "text/plain": [
       "0           NaN\n",
       "1           NaN\n",
       "2           NaN\n",
       "3           NaN\n",
       "4           NaN\n",
       "         ...   \n",
       "3314    95.0017\n",
       "3315    94.9629\n",
       "3316    94.9264\n",
       "3317    94.8559\n",
       "3318    94.7942\n",
       "Name: Close, Length: 3319, dtype: float64"
      ]
     },
     "execution_count": 75,
     "metadata": {},
     "output_type": "execute_result"
    }
   ],
   "source": [
    "ma100=df.Close.rolling(100).mean()\n",
    "ma100"
   ]
  },
  {
   "cell_type": "code",
   "execution_count": 76,
   "metadata": {},
   "outputs": [
    {
     "data": {
      "text/plain": [
       "[<matplotlib.lines.Line2D at 0x1a6b62bd180>]"
      ]
     },
     "execution_count": 76,
     "metadata": {},
     "output_type": "execute_result"
    },
    {
     "data": {
      "image/png": "[encoded data removed]",
      "text/plain": [
       "<Figure size 1200x600 with 1 Axes>"
      ]
     },
     "metadata": {},
     "output_type": "display_data"
    }
   ],
   "source": [
    "plt.figure(figsize = (12,6))\n",
    "plt.plot(df.Close)\n",
    "plt.plot(ma100)"
   ]
  },
  {
   "cell_type": "code",
   "execution_count": 77,
   "metadata": {},
   "outputs": [
    {
     "data": {
      "text/plain": [
       "0              NaN\n",
       "1              NaN\n",
       "2              NaN\n",
       "3              NaN\n",
       "4              NaN\n",
       "           ...    \n",
       "3314    103.057125\n",
       "3315    102.965970\n",
       "3316    102.885493\n",
       "3317    102.802228\n",
       "3318    102.698945\n",
       "Name: Close, Length: 3319, dtype: float64"
      ]
     },
     "execution_count": 77,
     "metadata": {},
     "output_type": "execute_result"
    }
   ],
   "source": [
    "ma200=df.Close.rolling(200).mean()\n",
    "ma200"
   ]
  },
  {
   "cell_type": "code",
   "execution_count": 78,
   "metadata": {},
   "outputs": [
    {
     "data": {
      "text/plain": [
       "[<matplotlib.lines.Line2D at 0x1a6b634fe50>]"
      ]
     },
     "execution_count": 78,
     "metadata": {},
     "output_type": "execute_result"
    },
    {
     "data": {
      "image/png": "[encoded data removed]",
      "text/plain": [
       "<Figure size 1200x600 with 1 Axes>"
      ]
     },
     "metadata": {},
     "output_type": "display_data"
    }
   ],
   "source": [
    "plt.figure(figsize = (12,6))\n",
    "plt.plot(df.Close)\n",
    "plt.plot(ma100)\n",
    "plt.plot(ma200)"
   ]
  },
  {
   "cell_type": "code",
   "execution_count": 79,
   "metadata": {},
   "outputs": [
    {
     "data": {
      "text/plain": [
       "(3319, 6)"
      ]
     },
     "execution_count": 79,
     "metadata": {},
     "output_type": "execute_result"
    }
   ],
   "source": [
    "df.shape"
   ]
  },
  {
   "cell_type": "code",
   "execution_count": 80,
   "metadata": {},
   "outputs": [
    {
     "name": "stdout",
     "output_type": "stream",
     "text": [
      "(2323, 1)\n",
      "(996, 1)\n"
     ]
    }
   ],
   "source": [
    "train_data = pd.DataFrame(df['Close'][0:int(len(df)*0.7)])\n",
    "test_data = pd.DataFrame(df['Close'][int(len(df)*0.7): int(len(df))])\n",
    "\n",
    "print(train_data.shape)\n",
    "print(test_data.shape)"
   ]
  },
  {
   "cell_type": "code",
   "execution_count": 81,
   "metadata": {},
   "outputs": [],
   "source": [
    "from sklearn.preprocessing import MinMaxScaler\n",
    "scaler = MinMaxScaler(feature_range=(0,1))"
   ]
  },
  {
   "cell_type": "code",
   "execution_count": 82,
   "metadata": {},
   "outputs": [
    {
     "data": {
      "text/plain": [
       "array([[0.09036547],\n",
       "       [0.08905749],\n",
       "       [0.08160285],\n",
       "       ...,\n",
       "       [0.92833288],\n",
       "       [0.9203603 ],\n",
       "       [0.90932438]])"
      ]
     },
     "execution_count": 82,
     "metadata": {},
     "output_type": "execute_result"
    }
   ],
   "source": [
    "train_data_array = scaler.fit_transform(train_data)\n",
    "train_data_array"
   ]
  },
  {
   "cell_type": "code",
   "execution_count": 84,
   "metadata": {},
   "outputs": [],
   "source": [
    "x_train = []\n",
    "y_train =[] \n",
    "\n",
    "for i in range(100, train_data_array.shape[0]):\n",
    "    x_train.append(train_data_array[i-100:i])\n",
    "    y_train.append(train_data_array[i,0])\n",
    "\n",
    "x_train,y_train = np.array(x_train), np.array(y_train)"
   ]
  },
  {
   "cell_type": "code",
   "execution_count": 88,
   "metadata": {},
   "outputs": [],
   "source": [
    "from keras.layers import Dense, Dropout, LSTM\n",
    "from keras.models import Sequential"
   ]
  },
  {
   "cell_type": "code",
   "execution_count": 89,
   "metadata": {},
   "outputs": [],
   "source": [
    "model = Sequential()\n",
    "model.add(LSTM(units = 50, activation = 'relu', return_sequences = True, input_shape =(x_train.shape[1],1)))\n",
    "model.add(Dropout(0.2))\n",
    "\n",
    "model.add(LSTM(units = 60, activation = 'relu', return_sequences = True))\n",
    "model.add(Dropout(0.3))\n",
    "\n",
    "model.add(LSTM(units = 80, activation = 'relu', return_sequences = True))\n",
    "model.add(Dropout(0.4))\n",
    "\n",
    "model.add(LSTM(units = 120, activation = 'relu', return_sequences = True))\n",
    "model.add(Dropout(0.5))\n",
    "\n",
    "model.add(Dense(units=1))"
   ]
  },
  {
   "cell_type": "code",
   "execution_count": 90,
   "metadata": {},
   "outputs": [
    {
     "name": "stdout",
     "output_type": "stream",
     "text": [
      "Model: \"sequential\"\n",
      "_________________________________________________________________\n",
      " Layer (type)                Output Shape              Param #   \n",
      "=================================================================\n",
      " lstm (LSTM)                 (None, 100, 50)           10400     \n",
      "                                                                 \n",
      " dropout (Dropout)           (None, 100, 50)           0         \n",
      "                                                                 \n",
      " lstm_1 (LSTM)               (None, 100, 60)           26640     \n",
      "                                                                 \n",
      " dropout_1 (Dropout)         (None, 100, 60)           0         \n",
      "                                                                 \n",
      " lstm_2 (LSTM)               (None, 100, 80)           45120     \n",
      "                                                                 \n",
      " dropout_2 (Dropout)         (None, 100, 80)           0         \n",
      "                                                                 \n",
      " lstm_3 (LSTM)               (None, 100, 120)          96480     \n",
      "                                                                 \n",
      " dropout_3 (Dropout)         (None, 100, 120)          0         \n",
      "                                                                 \n",
      " dense (Dense)               (None, 100, 1)            121       \n",
      "                                                                 \n",
      "=================================================================\n",
      "Total params: 178,761\n",
      "Trainable params: 178,761\n",
      "Non-trainable params: 0\n",
      "_________________________________________________________________\n"
     ]
    }
   ],
   "source": [
    "model.summary()"
   ]
  },
  {
   "cell_type": "code",
   "execution_count": 91,
   "metadata": {},
   "outputs": [
    {
     "name": "stdout",
     "output_type": "stream",
     "text": [
      "Epoch 1/50\n",
      "70/70 [==============================] - 32s 294ms/step - loss: 0.0972\n",
      "Epoch 2/50\n",
      "70/70 [==============================] - 20s 283ms/step - loss: 0.0816\n",
      "Epoch 3/50\n",
      "70/70 [==============================] - 20s 291ms/step - loss: 0.0804\n",
      "Epoch 4/50\n",
      "70/70 [==============================] - 20s 283ms/step - loss: 0.0804\n",
      "Epoch 5/50\n",
      "70/70 [==============================] - 20s 284ms/step - loss: 0.0796\n",
      "Epoch 6/50\n",
      "70/70 [==============================] - 20s 290ms/step - loss: 0.0795\n",
      "Epoch 7/50\n",
      "70/70 [==============================] - 20s 287ms/step - loss: 0.0791\n",
      "Epoch 8/50\n",
      "70/70 [==============================] - 20s 287ms/step - loss: 0.0786\n",
      "Epoch 9/50\n",
      "70/70 [==============================] - 22s 310ms/step - loss: 0.0790\n",
      "Epoch 10/50\n",
      "70/70 [==============================] - 21s 293ms/step - loss: 0.0781\n",
      "Epoch 11/50\n",
      "70/70 [==============================] - 20s 289ms/step - loss: 0.0779\n",
      "Epoch 12/50\n",
      "70/70 [==============================] - 21s 294ms/step - loss: 0.0784\n",
      "Epoch 13/50\n",
      "70/70 [==============================] - 20s 287ms/step - loss: 0.0778\n",
      "Epoch 14/50\n",
      "70/70 [==============================] - 20s 287ms/step - loss: 0.0777\n",
      "Epoch 15/50\n",
      "70/70 [==============================] - 21s 293ms/step - loss: 0.0778\n",
      "Epoch 16/50\n",
      "70/70 [==============================] - 20s 288ms/step - loss: 0.0778\n",
      "Epoch 17/50\n",
      "70/70 [==============================] - 20s 289ms/step - loss: 0.0774\n",
      "Epoch 18/50\n",
      "70/70 [==============================] - 20s 284ms/step - loss: 0.0779\n",
      "Epoch 19/50\n",
      "70/70 [==============================] - 20s 284ms/step - loss: 0.0774\n",
      "Epoch 20/50\n",
      "70/70 [==============================] - 20s 288ms/step - loss: 0.0774\n",
      "Epoch 21/50\n",
      "70/70 [==============================] - 20s 286ms/step - loss: 0.0772\n",
      "Epoch 22/50\n",
      "70/70 [==============================] - 20s 287ms/step - loss: 0.0772\n",
      "Epoch 23/50\n",
      "70/70 [==============================] - 20s 289ms/step - loss: 0.0771\n",
      "Epoch 24/50\n",
      "70/70 [==============================] - 20s 292ms/step - loss: 0.0772\n",
      "Epoch 25/50\n",
      "70/70 [==============================] - 20s 283ms/step - loss: 0.0771\n",
      "Epoch 26/50\n",
      "70/70 [==============================] - 21s 301ms/step - loss: 0.0770\n",
      "Epoch 27/50\n",
      "70/70 [==============================] - 21s 297ms/step - loss: 0.0772\n",
      "Epoch 28/50\n",
      "70/70 [==============================] - 20s 285ms/step - loss: 0.0770\n",
      "Epoch 29/50\n",
      "70/70 [==============================] - 20s 285ms/step - loss: 0.0770\n",
      "Epoch 30/50\n",
      "70/70 [==============================] - 20s 291ms/step - loss: 0.0769\n",
      "Epoch 31/50\n",
      "70/70 [==============================] - 20s 292ms/step - loss: 0.0770\n",
      "Epoch 32/50\n",
      "70/70 [==============================] - 20s 286ms/step - loss: 0.0769\n",
      "Epoch 33/50\n",
      "70/70 [==============================] - 20s 287ms/step - loss: 0.0769\n",
      "Epoch 34/50\n",
      "70/70 [==============================] - 20s 284ms/step - loss: 0.0768\n",
      "Epoch 35/50\n",
      "70/70 [==============================] - 20s 284ms/step - loss: 0.0770\n",
      "Epoch 36/50\n",
      "70/70 [==============================] - 20s 289ms/step - loss: 0.0768\n",
      "Epoch 37/50\n",
      "70/70 [==============================] - 19s 274ms/step - loss: 0.0769\n",
      "Epoch 38/50\n",
      "70/70 [==============================] - 22s 317ms/step - loss: 0.0769\n",
      "Epoch 39/50\n",
      "70/70 [==============================] - 19s 273ms/step - loss: 0.0767\n",
      "Epoch 40/50\n",
      "70/70 [==============================] - 19s 271ms/step - loss: 0.0768\n",
      "Epoch 41/50\n",
      "70/70 [==============================] - 21s 299ms/step - loss: 0.0768\n",
      "Epoch 42/50\n",
      "70/70 [==============================] - 23s 320ms/step - loss: 0.0768\n",
      "Epoch 43/50\n",
      "70/70 [==============================] - 24s 338ms/step - loss: 0.0767\n",
      "Epoch 44/50\n",
      "70/70 [==============================] - 20s 281ms/step - loss: 0.0767\n",
      "Epoch 45/50\n",
      "70/70 [==============================] - 17s 245ms/step - loss: 0.0768\n",
      "Epoch 46/50\n",
      "70/70 [==============================] - 17s 249ms/step - loss: 0.0767\n",
      "Epoch 47/50\n",
      "70/70 [==============================] - 18s 260ms/step - loss: 0.0766\n",
      "Epoch 48/50\n",
      "70/70 [==============================] - 18s 259ms/step - loss: 0.0768\n",
      "Epoch 49/50\n",
      "70/70 [==============================] - 17s 239ms/step - loss: 0.0766\n",
      "Epoch 50/50\n",
      "70/70 [==============================] - 16s 229ms/step - loss: 0.0767\n"
     ]
    },
    {
     "data": {
      "text/plain": [
       "<keras.callbacks.History at 0x1a6d0c9e260>"
      ]
     },
     "execution_count": 91,
     "metadata": {},
     "output_type": "execute_result"
    }
   ],
   "source": [
    "model.compile(optimizer =  'adam', loss ='mean_squared_error')\n",
    "model.fit(x_train,y_train,epochs =50)"
   ]
  },
  {
   "cell_type": "code",
   "execution_count": 92,
   "metadata": {},
   "outputs": [],
   "source": [
    "model.save('keras_model.h5')"
   ]
  },
  {
   "cell_type": "code",
   "execution_count": 93,
   "metadata": {},
   "outputs": [],
   "source": [
    "past_100_days = train_data.tail(100)"
   ]
  },
  {
   "cell_type": "code",
   "execution_count": 94,
   "metadata": {},
   "outputs": [
    {
     "name": "stderr",
     "output_type": "stream",
     "text": [
      "C:\\Users\\HP\\AppData\\Local\\Temp\\ipykernel_73552\\1434291070.py:1: FutureWarning: The frame.append method is deprecated and will be removed from pandas in a future version. Use pandas.concat instead.\n",
      "  final_df = past_100_days.append(test_data, ignore_index =True)\n"
     ]
    }
   ],
   "source": [
    "final_df = past_100_days.append(test_data, ignore_index =True)"
   ]
  },
  {
   "cell_type": "code",
   "execution_count": 95,
   "metadata": {},
   "outputs": [
    {
     "data": {
      "text/html": [
       "<div>\n",
       "<style scoped>\n",
       "    .dataframe tbody tr th:only-of-type {\n",
       "        vertical-align: middle;\n",
       "    }\n",
       "\n",
       "    .dataframe tbody tr th {\n",
       "        vertical-align: top;\n",
       "    }\n",
       "\n",
       "    .dataframe thead th {\n",
       "        text-align: right;\n",
       "    }\n",
       "</style>\n",
       "<table border=\"1\" class=\"dataframe\">\n",
       "  <thead>\n",
       "    <tr style=\"text-align: right;\">\n",
       "      <th></th>\n",
       "      <th>Close</th>\n",
       "    </tr>\n",
       "  </thead>\n",
       "  <tbody>\n",
       "    <tr>\n",
       "      <th>0</th>\n",
       "      <td>53.838501</td>\n",
       "    </tr>\n",
       "    <tr>\n",
       "      <th>1</th>\n",
       "      <td>53.500000</td>\n",
       "    </tr>\n",
       "    <tr>\n",
       "      <th>2</th>\n",
       "      <td>52.889500</td>\n",
       "    </tr>\n",
       "    <tr>\n",
       "      <th>3</th>\n",
       "      <td>52.004501</td>\n",
       "    </tr>\n",
       "    <tr>\n",
       "      <th>4</th>\n",
       "      <td>52.790501</td>\n",
       "    </tr>\n",
       "    <tr>\n",
       "      <th>...</th>\n",
       "      <td>...</td>\n",
       "    </tr>\n",
       "    <tr>\n",
       "      <th>1091</th>\n",
       "      <td>95.580002</td>\n",
       "    </tr>\n",
       "    <tr>\n",
       "      <th>1092</th>\n",
       "      <td>94.169998</td>\n",
       "    </tr>\n",
       "    <tr>\n",
       "      <th>1093</th>\n",
       "      <td>94.650002</td>\n",
       "    </tr>\n",
       "    <tr>\n",
       "      <th>1094</th>\n",
       "      <td>92.660004</td>\n",
       "    </tr>\n",
       "    <tr>\n",
       "      <th>1095</th>\n",
       "      <td>91.010002</td>\n",
       "    </tr>\n",
       "  </tbody>\n",
       "</table>\n",
       "<p>1096 rows × 1 columns</p>\n",
       "</div>"
      ],
      "text/plain": [
       "          Close\n",
       "0     53.838501\n",
       "1     53.500000\n",
       "2     52.889500\n",
       "3     52.004501\n",
       "4     52.790501\n",
       "...         ...\n",
       "1091  95.580002\n",
       "1092  94.169998\n",
       "1093  94.650002\n",
       "1094  92.660004\n",
       "1095  91.010002\n",
       "\n",
       "[1096 rows x 1 columns]"
      ]
     },
     "execution_count": 95,
     "metadata": {},
     "output_type": "execute_result"
    }
   ],
   "source": [
    "final_df"
   ]
  },
  {
   "cell_type": "code",
   "execution_count": 96,
   "metadata": {},
   "outputs": [
    {
     "data": {
      "text/plain": [
       "array([[0.04933856],\n",
       "       [0.0460166 ],\n",
       "       [0.04002531],\n",
       "       ...,\n",
       "       [0.44985182],\n",
       "       [0.43032251],\n",
       "       [0.41412983]])"
      ]
     },
     "execution_count": 96,
     "metadata": {},
     "output_type": "execute_result"
    }
   ],
   "source": [
    "input_data = scaler.fit_transform(final_df)\n",
    "input_data"
   ]
  },
  {
   "cell_type": "code",
   "execution_count": 110,
   "metadata": {},
   "outputs": [
    {
     "data": {
      "text/plain": [
       "(1096, 1)"
      ]
     },
     "execution_count": 110,
     "metadata": {},
     "output_type": "execute_result"
    }
   ],
   "source": [
    "input_data.shape"
   ]
  },
  {
   "cell_type": "code",
   "execution_count": 111,
   "metadata": {},
   "outputs": [],
   "source": [
    "x_test =[]\n",
    "y_test =[]\n",
    "\n",
    "for i in range(100, input_data.shape[0]):\n",
    "    x_test.append(input_data[i-100:i])\n",
    "    y_test.append(input_data[i,0])"
   ]
  },
  {
   "cell_type": "code",
   "execution_count": 112,
   "metadata": {},
   "outputs": [
    {
     "name": "stdout",
     "output_type": "stream",
     "text": [
      "(996, 100, 1)\n",
      "(996,)\n"
     ]
    }
   ],
   "source": [
    "x_test, y_test =np.array(x_test), np.array(y_test)\n",
    "print(x_test.shape)\n",
    "print(y_test.shape)"
   ]
  },
  {
   "cell_type": "code",
   "execution_count": 113,
   "metadata": {},
   "outputs": [
    {
     "name": "stdout",
     "output_type": "stream",
     "text": [
      "32/32 [==============================] - 3s 77ms/step\n"
     ]
    }
   ],
   "source": [
    "y_predicted = model.predict(x_test)"
   ]
  },
  {
   "cell_type": "code",
   "execution_count": 114,
   "metadata": {},
   "outputs": [
    {
     "data": {
      "text/plain": [
       "(996, 100, 1)"
      ]
     },
     "execution_count": 114,
     "metadata": {},
     "output_type": "execute_result"
    }
   ],
   "source": [
    "y_predicted.shape"
   ]
  },
  {
   "cell_type": "code",
   "execution_count": 115,
   "metadata": {},
   "outputs": [
    {
     "data": {
      "text/plain": [
       "array([0.00981374])"
      ]
     },
     "execution_count": 115,
     "metadata": {},
     "output_type": "execute_result"
    }
   ],
   "source": [
    "scaler.scale_"
   ]
  },
  {
   "cell_type": "code",
   "execution_count": 116,
   "metadata": {},
   "outputs": [],
   "source": [
    "scale_factor=1/0.00981374\n",
    "y_predicted = y_predicted*scale_factor\n",
    "y_test = y_test*scale_factor"
   ]
  },
  {
   "cell_type": "code",
   "execution_count": 117,
   "metadata": {},
   "outputs": [
    {
     "ename": "ValueError",
     "evalue": "x and y can be no greater than 2D, but have shapes (996,) and (996, 100, 1)",
     "output_type": "error",
     "traceback": [
      "\u001b[1;31m---------------------------------------------------------------------------\u001b[0m",
      "\u001b[1;31mValueError\u001b[0m                                Traceback (most recent call last)",
      "\u001b[1;32mc:\\Users\\HP\\Desktop\\Pikstock\\StockPrediction.ipynb Cell 31\u001b[0m in \u001b[0;36m3\n\u001b[0;32m      <a href='vscode-notebook-cell:/c%3A/Users/HP/Desktop/Pikstock/StockPrediction.ipynb#X62sZmlsZQ%3D%3D?line=0'>1</a>\u001b[0m plt\u001b[39m.\u001b[39mfigure(figsize\u001b[39m=\u001b[39m(\u001b[39m12\u001b[39m,\u001b[39m6\u001b[39m))\n\u001b[0;32m      <a href='vscode-notebook-cell:/c%3A/Users/HP/Desktop/Pikstock/StockPrediction.ipynb#X62sZmlsZQ%3D%3D?line=1'>2</a>\u001b[0m plt\u001b[39m.\u001b[39mplot(y_test , \u001b[39m'\u001b[39m\u001b[39mb\u001b[39m\u001b[39m'\u001b[39m, label \u001b[39m=\u001b[39m \u001b[39m'\u001b[39m\u001b[39mOriginal Price\u001b[39m\u001b[39m'\u001b[39m)\n\u001b[1;32m----> <a href='vscode-notebook-cell:/c%3A/Users/HP/Desktop/Pikstock/StockPrediction.ipynb#X62sZmlsZQ%3D%3D?line=2'>3</a>\u001b[0m plt\u001b[39m.\u001b[39;49mplot(y_predicted , \u001b[39m'\u001b[39;49m\u001b[39mr\u001b[39;49m\u001b[39m'\u001b[39;49m, label \u001b[39m=\u001b[39;49m \u001b[39m'\u001b[39;49m\u001b[39mPredicted Price\u001b[39;49m\u001b[39m'\u001b[39;49m)\n\u001b[0;32m      <a href='vscode-notebook-cell:/c%3A/Users/HP/Desktop/Pikstock/StockPrediction.ipynb#X62sZmlsZQ%3D%3D?line=3'>4</a>\u001b[0m plt\u001b[39m.\u001b[39mxlabel(\u001b[39m'\u001b[39m\u001b[39mTime\u001b[39m\u001b[39m'\u001b[39m)\n\u001b[0;32m      <a href='vscode-notebook-cell:/c%3A/Users/HP/Desktop/Pikstock/StockPrediction.ipynb#X62sZmlsZQ%3D%3D?line=4'>5</a>\u001b[0m plt\u001b[39m.\u001b[39mylabel(\u001b[39m'\u001b[39m\u001b[39mPrice\u001b[39m\u001b[39m'\u001b[39m)\n",
      "File \u001b[1;32mc:\\python310\\lib\\site-packages\\matplotlib\\pyplot.py:2748\u001b[0m, in \u001b[0;36mplot\u001b[1;34m(scalex, scaley, data, *args, **kwargs)\u001b[0m\n\u001b[0;32m   2746\u001b[0m \u001b[39m@_copy_docstring_and_deprecators\u001b[39m(Axes\u001b[39m.\u001b[39mplot)\n\u001b[0;32m   2747\u001b[0m \u001b[39mdef\u001b[39;00m \u001b[39mplot\u001b[39m(\u001b[39m*\u001b[39margs, scalex\u001b[39m=\u001b[39m\u001b[39mTrue\u001b[39;00m, scaley\u001b[39m=\u001b[39m\u001b[39mTrue\u001b[39;00m, data\u001b[39m=\u001b[39m\u001b[39mNone\u001b[39;00m, \u001b[39m*\u001b[39m\u001b[39m*\u001b[39mkwargs):\n\u001b[1;32m-> 2748\u001b[0m     \u001b[39mreturn\u001b[39;00m gca()\u001b[39m.\u001b[39mplot(\n\u001b[0;32m   2749\u001b[0m         \u001b[39m*\u001b[39margs, scalex\u001b[39m=\u001b[39mscalex, scaley\u001b[39m=\u001b[39mscaley,\n\u001b[0;32m   2750\u001b[0m         \u001b[39m*\u001b[39m\u001b[39m*\u001b[39m({\u001b[39m\"\u001b[39m\u001b[39mdata\u001b[39m\u001b[39m\"\u001b[39m: data} \u001b[39mif\u001b[39;00m data \u001b[39mis\u001b[39;00m \u001b[39mnot\u001b[39;00m \u001b[39mNone\u001b[39;00m \u001b[39melse\u001b[39;00m {}), \u001b[39m*\u001b[39m\u001b[39m*\u001b[39mkwargs)\n",
      "File \u001b[1;32mc:\\python310\\lib\\site-packages\\matplotlib\\axes\\_axes.py:1668\u001b[0m, in \u001b[0;36mAxes.plot\u001b[1;34m(self, scalex, scaley, data, *args, **kwargs)\u001b[0m\n\u001b[0;32m   1425\u001b[0m \u001b[39m\"\"\"\u001b[39;00m\n\u001b[0;32m   1426\u001b[0m \u001b[39mPlot y versus x as lines and/or markers.\u001b[39;00m\n\u001b[0;32m   1427\u001b[0m \n\u001b[1;32m   (...)\u001b[0m\n\u001b[0;32m   1665\u001b[0m \u001b[39m(``'green'``) or hex strings (``'#008000'``).\u001b[39;00m\n\u001b[0;32m   1666\u001b[0m \u001b[39m\"\"\"\u001b[39;00m\n\u001b[0;32m   1667\u001b[0m kwargs \u001b[39m=\u001b[39m cbook\u001b[39m.\u001b[39mnormalize_kwargs(kwargs, mlines\u001b[39m.\u001b[39mLine2D)\n\u001b[1;32m-> 1668\u001b[0m lines \u001b[39m=\u001b[39m [\u001b[39m*\u001b[39m\u001b[39mself\u001b[39m\u001b[39m.\u001b[39m_get_lines(\u001b[39m*\u001b[39margs, data\u001b[39m=\u001b[39mdata, \u001b[39m*\u001b[39m\u001b[39m*\u001b[39mkwargs)]\n\u001b[0;32m   1669\u001b[0m \u001b[39mfor\u001b[39;00m line \u001b[39min\u001b[39;00m lines:\n\u001b[0;32m   1670\u001b[0m     \u001b[39mself\u001b[39m\u001b[39m.\u001b[39madd_line(line)\n",
      "File \u001b[1;32mc:\\python310\\lib\\site-packages\\matplotlib\\axes\\_base.py:311\u001b[0m, in \u001b[0;36m_process_plot_var_args.__call__\u001b[1;34m(self, data, *args, **kwargs)\u001b[0m\n\u001b[0;32m    309\u001b[0m     this \u001b[39m+\u001b[39m\u001b[39m=\u001b[39m args[\u001b[39m0\u001b[39m],\n\u001b[0;32m    310\u001b[0m     args \u001b[39m=\u001b[39m args[\u001b[39m1\u001b[39m:]\n\u001b[1;32m--> 311\u001b[0m \u001b[39myield from\u001b[39;00m \u001b[39mself\u001b[39;49m\u001b[39m.\u001b[39;49m_plot_args(\n\u001b[0;32m    312\u001b[0m     this, kwargs, ambiguous_fmt_datakey\u001b[39m=\u001b[39;49mambiguous_fmt_datakey)\n",
      "File \u001b[1;32mc:\\python310\\lib\\site-packages\\matplotlib\\axes\\_base.py:507\u001b[0m, in \u001b[0;36m_process_plot_var_args._plot_args\u001b[1;34m(self, tup, kwargs, return_kwargs, ambiguous_fmt_datakey)\u001b[0m\n\u001b[0;32m    504\u001b[0m     \u001b[39mraise\u001b[39;00m \u001b[39mValueError\u001b[39;00m(\u001b[39mf\u001b[39m\u001b[39m\"\u001b[39m\u001b[39mx and y must have same first dimension, but \u001b[39m\u001b[39m\"\u001b[39m\n\u001b[0;32m    505\u001b[0m                      \u001b[39mf\u001b[39m\u001b[39m\"\u001b[39m\u001b[39mhave shapes \u001b[39m\u001b[39m{\u001b[39;00mx\u001b[39m.\u001b[39mshape\u001b[39m}\u001b[39;00m\u001b[39m and \u001b[39m\u001b[39m{\u001b[39;00my\u001b[39m.\u001b[39mshape\u001b[39m}\u001b[39;00m\u001b[39m\"\u001b[39m)\n\u001b[0;32m    506\u001b[0m \u001b[39mif\u001b[39;00m x\u001b[39m.\u001b[39mndim \u001b[39m>\u001b[39m \u001b[39m2\u001b[39m \u001b[39mor\u001b[39;00m y\u001b[39m.\u001b[39mndim \u001b[39m>\u001b[39m \u001b[39m2\u001b[39m:\n\u001b[1;32m--> 507\u001b[0m     \u001b[39mraise\u001b[39;00m \u001b[39mValueError\u001b[39;00m(\u001b[39mf\u001b[39m\u001b[39m\"\u001b[39m\u001b[39mx and y can be no greater than 2D, but have \u001b[39m\u001b[39m\"\u001b[39m\n\u001b[0;32m    508\u001b[0m                      \u001b[39mf\u001b[39m\u001b[39m\"\u001b[39m\u001b[39mshapes \u001b[39m\u001b[39m{\u001b[39;00mx\u001b[39m.\u001b[39mshape\u001b[39m}\u001b[39;00m\u001b[39m and \u001b[39m\u001b[39m{\u001b[39;00my\u001b[39m.\u001b[39mshape\u001b[39m}\u001b[39;00m\u001b[39m\"\u001b[39m)\n\u001b[0;32m    509\u001b[0m \u001b[39mif\u001b[39;00m x\u001b[39m.\u001b[39mndim \u001b[39m==\u001b[39m \u001b[39m1\u001b[39m:\n\u001b[0;32m    510\u001b[0m     x \u001b[39m=\u001b[39m x[:, np\u001b[39m.\u001b[39mnewaxis]\n",
      "\u001b[1;31mValueError\u001b[0m: x and y can be no greater than 2D, but have shapes (996,) and (996, 100, 1)"
     ]
    },
    {
     "data": {
      "image/png": "[encoded data removed]",
      "text/plain": [
       "<Figure size 1200x600 with 1 Axes>"
      ]
     },
     "metadata": {},
     "output_type": "display_data"
    }
   ],
   "source": [
    "plt.figure(figsize=(12,6))\n",
    "plt.plot(y_test , 'b', label = 'Original Price')\n",
    "plt.plot(y_predicted , 'r', label = 'Predicted Price')\n",
    "plt.xlabel('Time')\n",
    "plt.ylabel('Price')\n",
    "plt.legend()\n",
    "plt.show()"
   ]
  }
 ],
 "metadata": {
  "kernelspec": {
   "display_name": "Python 3",
   "language": "python",
   "name": "python3"
  },
  "language_info": {
   "codemirror_mode": {
    "name": "ipython",
    "version": 3
   },
   "file_extension": ".py",
   "mimetype": "text/x-python",
   "name": "python",
   "nbconvert_exporter": "python",
   "pygments_lexer": "ipython3",
   "version": "3.10.7"
  },
  "orig_nbformat": 4
 },
 "nbformat": 4,
 "nbformat_minor": 2
}
